{
 "cells": [
  {
   "cell_type": "markdown",
   "metadata": {},
   "source": [
    "# HW 10\n",
    "\n",
    "# Team: DSDA"
   ]
  },
  {
   "cell_type": "code",
   "execution_count": 59,
   "metadata": {},
   "outputs": [],
   "source": [
    "import pandas as pd\n",
    "import numpy as np\n",
    "\n",
    "s1 = pd.read_csv('based_on_mean.csv')\n",
    "s2 = pd.read_csv('based_on_mode.csv')\n",
    "s3 = pd.read_csv('based_on_mode_1.csv')\n",
    "s4 = pd.read_csv('4genres.csv')\n",
    "s5 = pd.read_csv('hw8_mat_fac.csv')\n",
    "s6 = pd.read_csv('lr_answer.csv')\n",
    "s7 = pd.read_csv('dt_answer.csv')\n",
    "s8 = pd.read_csv('rf_answer.csv')\n",
    "s9 = pd.read_csv('gbt_answer.csv')\n",
    "s10 = pd.read_csv('lr_answer_six.csv')\n",
    "s11 = pd.read_csv('dt_answer_six.csv')\n",
    "s12 = pd.read_csv('rf_answer_six.csv')\n",
    "s13 = pd.read_csv('gbt_answer_six.csv')"
   ]
  },
  {
   "cell_type": "code",
   "execution_count": 60,
   "metadata": {},
   "outputs": [
    {
     "data": {
      "text/html": [
       "<div>\n",
       "<style scoped>\n",
       "    .dataframe tbody tr th:only-of-type {\n",
       "        vertical-align: middle;\n",
       "    }\n",
       "\n",
       "    .dataframe tbody tr th {\n",
       "        vertical-align: top;\n",
       "    }\n",
       "\n",
       "    .dataframe thead th {\n",
       "        text-align: right;\n",
       "    }\n",
       "</style>\n",
       "<table border=\"1\" class=\"dataframe\">\n",
       "  <thead>\n",
       "    <tr style=\"text-align: right;\">\n",
       "      <th></th>\n",
       "      <th>TrackID</th>\n",
       "      <th>Predictor</th>\n",
       "    </tr>\n",
       "  </thead>\n",
       "  <tbody>\n",
       "    <tr>\n",
       "      <th>0</th>\n",
       "      <td>199810_208019</td>\n",
       "      <td>0</td>\n",
       "    </tr>\n",
       "    <tr>\n",
       "      <th>1</th>\n",
       "      <td>199810_74139</td>\n",
       "      <td>0</td>\n",
       "    </tr>\n",
       "    <tr>\n",
       "      <th>2</th>\n",
       "      <td>199810_9903</td>\n",
       "      <td>0</td>\n",
       "    </tr>\n",
       "    <tr>\n",
       "      <th>3</th>\n",
       "      <td>199810_242681</td>\n",
       "      <td>0</td>\n",
       "    </tr>\n",
       "    <tr>\n",
       "      <th>4</th>\n",
       "      <td>199810_18515</td>\n",
       "      <td>1</td>\n",
       "    </tr>\n",
       "  </tbody>\n",
       "</table>\n",
       "</div>"
      ],
      "text/plain": [
       "         TrackID  Predictor\n",
       "0  199810_208019          0\n",
       "1   199810_74139          0\n",
       "2    199810_9903          0\n",
       "3  199810_242681          0\n",
       "4   199810_18515          1"
      ]
     },
     "execution_count": 60,
     "metadata": {},
     "output_type": "execute_result"
    }
   ],
   "source": [
    "s1.head()"
   ]
  },
  {
   "cell_type": "code",
   "execution_count": 61,
   "metadata": {},
   "outputs": [],
   "source": [
    "# save the scores for each of these submissions\n",
    "p1 = 0.85745\n",
    "p2 = 0.84909\n",
    "p3 = 0.77711\n",
    "p4 = 0.84402\n",
    "p5 = 0.67488\n",
    "p6 = 0.85771\n",
    "p7 = 0.85756\n",
    "p8 = 0.85756\n",
    "p9 = 0.85753\n",
    "p10 = 0.85595\n",
    "p11 = 0.85481\n",
    "p12 = 0.85709\n",
    "p13 = 0.85539"
   ]
  },
  {
   "cell_type": "code",
   "execution_count": 62,
   "metadata": {},
   "outputs": [],
   "source": [
    "S = [s1,s2,s3,s4,s5,s6,s7,s8,s9,s10,s11,s12,s13]\n",
    "for i in range(len(S)):\n",
    "    S[i].drop(columns='TrackID', inplace=True)"
   ]
  },
  {
   "cell_type": "code",
   "execution_count": 63,
   "metadata": {},
   "outputs": [],
   "source": [
    "for i in range(len(S)):\n",
    "    S[i].rename(columns={\"Predictor\":\"s\"+str(i+1)}, inplace=True)"
   ]
  },
  {
   "cell_type": "code",
   "execution_count": 64,
   "metadata": {},
   "outputs": [
    {
     "data": {
      "text/html": [
       "<div>\n",
       "<style scoped>\n",
       "    .dataframe tbody tr th:only-of-type {\n",
       "        vertical-align: middle;\n",
       "    }\n",
       "\n",
       "    .dataframe tbody tr th {\n",
       "        vertical-align: top;\n",
       "    }\n",
       "\n",
       "    .dataframe thead th {\n",
       "        text-align: right;\n",
       "    }\n",
       "</style>\n",
       "<table border=\"1\" class=\"dataframe\">\n",
       "  <thead>\n",
       "    <tr style=\"text-align: right;\">\n",
       "      <th></th>\n",
       "      <th>s1</th>\n",
       "    </tr>\n",
       "  </thead>\n",
       "  <tbody>\n",
       "    <tr>\n",
       "      <th>0</th>\n",
       "      <td>0</td>\n",
       "    </tr>\n",
       "    <tr>\n",
       "      <th>1</th>\n",
       "      <td>0</td>\n",
       "    </tr>\n",
       "    <tr>\n",
       "      <th>2</th>\n",
       "      <td>0</td>\n",
       "    </tr>\n",
       "    <tr>\n",
       "      <th>3</th>\n",
       "      <td>0</td>\n",
       "    </tr>\n",
       "    <tr>\n",
       "      <th>4</th>\n",
       "      <td>1</td>\n",
       "    </tr>\n",
       "  </tbody>\n",
       "</table>\n",
       "</div>"
      ],
      "text/plain": [
       "   s1\n",
       "0   0\n",
       "1   0\n",
       "2   0\n",
       "3   0\n",
       "4   1"
      ]
     },
     "execution_count": 64,
     "metadata": {},
     "output_type": "execute_result"
    }
   ],
   "source": [
    "s1.head()"
   ]
  },
  {
   "cell_type": "code",
   "execution_count": 65,
   "metadata": {},
   "outputs": [],
   "source": [
    "for i in range(len(S)):\n",
    "    S[i]['s'+str(i+1)] = 2.0*S[i]['s'+str(i+1)] - 1.0"
   ]
  },
  {
   "cell_type": "code",
   "execution_count": 66,
   "metadata": {},
   "outputs": [
    {
     "data": {
      "text/plain": [
       "[         s1\n",
       " 0      -1.0\n",
       " 1      -1.0\n",
       " 2      -1.0\n",
       " 3      -1.0\n",
       " 4       1.0\n",
       " ...     ...\n",
       " 119995 -1.0\n",
       " 119996 -1.0\n",
       " 119997  1.0\n",
       " 119998 -1.0\n",
       " 119999  1.0\n",
       " \n",
       " [120000 rows x 1 columns],\n",
       "          s2\n",
       " 0      -1.0\n",
       " 1      -1.0\n",
       " 2      -1.0\n",
       " 3      -1.0\n",
       " 4       1.0\n",
       " ...     ...\n",
       " 119995 -1.0\n",
       " 119996 -1.0\n",
       " 119997  1.0\n",
       " 119998 -1.0\n",
       " 119999  1.0\n",
       " \n",
       " [120000 rows x 1 columns],\n",
       "          s3\n",
       " 0      -1.0\n",
       " 1       1.0\n",
       " 2      -1.0\n",
       " 3      -1.0\n",
       " 4       1.0\n",
       " ...     ...\n",
       " 119995 -1.0\n",
       " 119996 -1.0\n",
       " 119997  1.0\n",
       " 119998 -1.0\n",
       " 119999  1.0\n",
       " \n",
       " [120000 rows x 1 columns],\n",
       "          s4\n",
       " 0      -1.0\n",
       " 1       1.0\n",
       " 2      -1.0\n",
       " 3      -1.0\n",
       " 4       1.0\n",
       " ...     ...\n",
       " 119995 -1.0\n",
       " 119996 -1.0\n",
       " 119997  1.0\n",
       " 119998 -1.0\n",
       " 119999  1.0\n",
       " \n",
       " [120000 rows x 1 columns],\n",
       "          s5\n",
       " 0       1.0\n",
       " 1      -1.0\n",
       " 2      -1.0\n",
       " 3      -1.0\n",
       " 4       1.0\n",
       " ...     ...\n",
       " 119995  1.0\n",
       " 119996 -1.0\n",
       " 119997  1.0\n",
       " 119998 -1.0\n",
       " 119999  1.0\n",
       " \n",
       " [120000 rows x 1 columns],\n",
       "          s6\n",
       " 0      -1.0\n",
       " 1      -1.0\n",
       " 2      -1.0\n",
       " 3      -1.0\n",
       " 4       1.0\n",
       " ...     ...\n",
       " 119995 -1.0\n",
       " 119996 -1.0\n",
       " 119997  1.0\n",
       " 119998 -1.0\n",
       " 119999  1.0\n",
       " \n",
       " [120000 rows x 1 columns],\n",
       "          s7\n",
       " 0      -1.0\n",
       " 1      -1.0\n",
       " 2      -1.0\n",
       " 3      -1.0\n",
       " 4       1.0\n",
       " ...     ...\n",
       " 119995 -1.0\n",
       " 119996 -1.0\n",
       " 119997  1.0\n",
       " 119998 -1.0\n",
       " 119999  1.0\n",
       " \n",
       " [120000 rows x 1 columns],\n",
       "          s8\n",
       " 0      -1.0\n",
       " 1      -1.0\n",
       " 2      -1.0\n",
       " 3      -1.0\n",
       " 4       1.0\n",
       " ...     ...\n",
       " 119995 -1.0\n",
       " 119996 -1.0\n",
       " 119997  1.0\n",
       " 119998 -1.0\n",
       " 119999  1.0\n",
       " \n",
       " [120000 rows x 1 columns],\n",
       "          s9\n",
       " 0      -1.0\n",
       " 1      -1.0\n",
       " 2      -1.0\n",
       " 3      -1.0\n",
       " 4       1.0\n",
       " ...     ...\n",
       " 119995 -1.0\n",
       " 119996 -1.0\n",
       " 119997  1.0\n",
       " 119998 -1.0\n",
       " 119999  1.0\n",
       " \n",
       " [120000 rows x 1 columns],\n",
       "         s10\n",
       " 0      -1.0\n",
       " 1      -1.0\n",
       " 2      -1.0\n",
       " 3      -1.0\n",
       " 4       1.0\n",
       " ...     ...\n",
       " 119995 -1.0\n",
       " 119996 -1.0\n",
       " 119997  1.0\n",
       " 119998 -1.0\n",
       " 119999  1.0\n",
       " \n",
       " [120000 rows x 1 columns],\n",
       "         s11\n",
       " 0      -1.0\n",
       " 1      -1.0\n",
       " 2      -1.0\n",
       " 3      -1.0\n",
       " 4       1.0\n",
       " ...     ...\n",
       " 119995 -1.0\n",
       " 119996 -1.0\n",
       " 119997  1.0\n",
       " 119998 -1.0\n",
       " 119999  1.0\n",
       " \n",
       " [120000 rows x 1 columns],\n",
       "         s12\n",
       " 0      -1.0\n",
       " 1      -1.0\n",
       " 2      -1.0\n",
       " 3      -1.0\n",
       " 4       1.0\n",
       " ...     ...\n",
       " 119995 -1.0\n",
       " 119996 -1.0\n",
       " 119997  1.0\n",
       " 119998 -1.0\n",
       " 119999  1.0\n",
       " \n",
       " [120000 rows x 1 columns],\n",
       "         s13\n",
       " 0      -1.0\n",
       " 1      -1.0\n",
       " 2      -1.0\n",
       " 3      -1.0\n",
       " 4       1.0\n",
       " ...     ...\n",
       " 119995 -1.0\n",
       " 119996 -1.0\n",
       " 119997  1.0\n",
       " 119998 -1.0\n",
       " 119999  1.0\n",
       " \n",
       " [120000 rows x 1 columns]]"
      ]
     },
     "execution_count": 66,
     "metadata": {},
     "output_type": "execute_result"
    }
   ],
   "source": [
    "S"
   ]
  },
  {
   "cell_type": "code",
   "execution_count": 67,
   "metadata": {},
   "outputs": [],
   "source": [
    "s_mat = pd.concat(S, axis=1)"
   ]
  },
  {
   "cell_type": "code",
   "execution_count": 68,
   "metadata": {},
   "outputs": [
    {
     "data": {
      "text/html": [
       "<div>\n",
       "<style scoped>\n",
       "    .dataframe tbody tr th:only-of-type {\n",
       "        vertical-align: middle;\n",
       "    }\n",
       "\n",
       "    .dataframe tbody tr th {\n",
       "        vertical-align: top;\n",
       "    }\n",
       "\n",
       "    .dataframe thead th {\n",
       "        text-align: right;\n",
       "    }\n",
       "</style>\n",
       "<table border=\"1\" class=\"dataframe\">\n",
       "  <thead>\n",
       "    <tr style=\"text-align: right;\">\n",
       "      <th></th>\n",
       "      <th>s1</th>\n",
       "      <th>s2</th>\n",
       "      <th>s3</th>\n",
       "      <th>s4</th>\n",
       "      <th>s5</th>\n",
       "      <th>s6</th>\n",
       "      <th>s7</th>\n",
       "      <th>s8</th>\n",
       "      <th>s9</th>\n",
       "      <th>s10</th>\n",
       "      <th>s11</th>\n",
       "      <th>s12</th>\n",
       "      <th>s13</th>\n",
       "    </tr>\n",
       "  </thead>\n",
       "  <tbody>\n",
       "    <tr>\n",
       "      <th>0</th>\n",
       "      <td>-1.0</td>\n",
       "      <td>-1.0</td>\n",
       "      <td>-1.0</td>\n",
       "      <td>-1.0</td>\n",
       "      <td>1.0</td>\n",
       "      <td>-1.0</td>\n",
       "      <td>-1.0</td>\n",
       "      <td>-1.0</td>\n",
       "      <td>-1.0</td>\n",
       "      <td>-1.0</td>\n",
       "      <td>-1.0</td>\n",
       "      <td>-1.0</td>\n",
       "      <td>-1.0</td>\n",
       "    </tr>\n",
       "    <tr>\n",
       "      <th>1</th>\n",
       "      <td>-1.0</td>\n",
       "      <td>-1.0</td>\n",
       "      <td>1.0</td>\n",
       "      <td>1.0</td>\n",
       "      <td>-1.0</td>\n",
       "      <td>-1.0</td>\n",
       "      <td>-1.0</td>\n",
       "      <td>-1.0</td>\n",
       "      <td>-1.0</td>\n",
       "      <td>-1.0</td>\n",
       "      <td>-1.0</td>\n",
       "      <td>-1.0</td>\n",
       "      <td>-1.0</td>\n",
       "    </tr>\n",
       "    <tr>\n",
       "      <th>2</th>\n",
       "      <td>-1.0</td>\n",
       "      <td>-1.0</td>\n",
       "      <td>-1.0</td>\n",
       "      <td>-1.0</td>\n",
       "      <td>-1.0</td>\n",
       "      <td>-1.0</td>\n",
       "      <td>-1.0</td>\n",
       "      <td>-1.0</td>\n",
       "      <td>-1.0</td>\n",
       "      <td>-1.0</td>\n",
       "      <td>-1.0</td>\n",
       "      <td>-1.0</td>\n",
       "      <td>-1.0</td>\n",
       "    </tr>\n",
       "    <tr>\n",
       "      <th>3</th>\n",
       "      <td>-1.0</td>\n",
       "      <td>-1.0</td>\n",
       "      <td>-1.0</td>\n",
       "      <td>-1.0</td>\n",
       "      <td>-1.0</td>\n",
       "      <td>-1.0</td>\n",
       "      <td>-1.0</td>\n",
       "      <td>-1.0</td>\n",
       "      <td>-1.0</td>\n",
       "      <td>-1.0</td>\n",
       "      <td>-1.0</td>\n",
       "      <td>-1.0</td>\n",
       "      <td>-1.0</td>\n",
       "    </tr>\n",
       "    <tr>\n",
       "      <th>4</th>\n",
       "      <td>1.0</td>\n",
       "      <td>1.0</td>\n",
       "      <td>1.0</td>\n",
       "      <td>1.0</td>\n",
       "      <td>1.0</td>\n",
       "      <td>1.0</td>\n",
       "      <td>1.0</td>\n",
       "      <td>1.0</td>\n",
       "      <td>1.0</td>\n",
       "      <td>1.0</td>\n",
       "      <td>1.0</td>\n",
       "      <td>1.0</td>\n",
       "      <td>1.0</td>\n",
       "    </tr>\n",
       "  </tbody>\n",
       "</table>\n",
       "</div>"
      ],
      "text/plain": [
       "    s1   s2   s3   s4   s5   s6   s7   s8   s9  s10  s11  s12  s13\n",
       "0 -1.0 -1.0 -1.0 -1.0  1.0 -1.0 -1.0 -1.0 -1.0 -1.0 -1.0 -1.0 -1.0\n",
       "1 -1.0 -1.0  1.0  1.0 -1.0 -1.0 -1.0 -1.0 -1.0 -1.0 -1.0 -1.0 -1.0\n",
       "2 -1.0 -1.0 -1.0 -1.0 -1.0 -1.0 -1.0 -1.0 -1.0 -1.0 -1.0 -1.0 -1.0\n",
       "3 -1.0 -1.0 -1.0 -1.0 -1.0 -1.0 -1.0 -1.0 -1.0 -1.0 -1.0 -1.0 -1.0\n",
       "4  1.0  1.0  1.0  1.0  1.0  1.0  1.0  1.0  1.0  1.0  1.0  1.0  1.0"
      ]
     },
     "execution_count": 68,
     "metadata": {},
     "output_type": "execute_result"
    }
   ],
   "source": [
    "s_mat.head()"
   ]
  },
  {
   "cell_type": "code",
   "execution_count": 69,
   "metadata": {},
   "outputs": [
    {
     "data": {
      "text/plain": [
       "(120000, 13)"
      ]
     },
     "execution_count": 69,
     "metadata": {},
     "output_type": "execute_result"
    }
   ],
   "source": [
    "s_mat.shape"
   ]
  },
  {
   "cell_type": "code",
   "execution_count": 77,
   "metadata": {},
   "outputs": [
    {
     "data": {
      "text/plain": [
       "120000"
      ]
     },
     "execution_count": 77,
     "metadata": {},
     "output_type": "execute_result"
    }
   ],
   "source": [
    "s_mat.shape[0]"
   ]
  },
  {
   "cell_type": "code",
   "execution_count": 71,
   "metadata": {},
   "outputs": [],
   "source": [
    "stx = np.zeros((13,1))"
   ]
  },
  {
   "cell_type": "code",
   "execution_count": 73,
   "metadata": {},
   "outputs": [
    {
     "data": {
      "text/plain": [
       "13"
      ]
     },
     "execution_count": 73,
     "metadata": {},
     "output_type": "execute_result"
    }
   ],
   "source": [
    "len(stx)"
   ]
  },
  {
   "cell_type": "code",
   "execution_count": 74,
   "metadata": {},
   "outputs": [],
   "source": [
    "P = [p1,p2,p3,p4,p5,p6,p7,p8,p9,p10,p11,p12,p13]"
   ]
  },
  {
   "cell_type": "code",
   "execution_count": 78,
   "metadata": {},
   "outputs": [],
   "source": [
    "N=s_mat.shape[0]\n",
    "for i in range(len(stx)):\n",
    "    stx[i] = N*((2.0*P[i]) - 1.0)"
   ]
  },
  {
   "cell_type": "code",
   "execution_count": 79,
   "metadata": {},
   "outputs": [
    {
     "data": {
      "text/plain": [
       "array([[85788. ],\n",
       "       [83781.6],\n",
       "       [66506.4],\n",
       "       [82564.8],\n",
       "       [41971.2],\n",
       "       [85850.4],\n",
       "       [85814.4],\n",
       "       [85814.4],\n",
       "       [85807.2],\n",
       "       [85428. ],\n",
       "       [85154.4],\n",
       "       [85701.6],\n",
       "       [85293.6]])"
      ]
     },
     "execution_count": 79,
     "metadata": {},
     "output_type": "execute_result"
    }
   ],
   "source": [
    "stx"
   ]
  },
  {
   "cell_type": "code",
   "execution_count": 81,
   "metadata": {},
   "outputs": [],
   "source": [
    "s_matrix = s_mat.to_numpy()"
   ]
  },
  {
   "cell_type": "code",
   "execution_count": 83,
   "metadata": {},
   "outputs": [
    {
     "data": {
      "text/plain": [
       "numpy.ndarray"
      ]
     },
     "execution_count": 83,
     "metadata": {},
     "output_type": "execute_result"
    }
   ],
   "source": [
    "type(s_matrix)"
   ]
  },
  {
   "cell_type": "code",
   "execution_count": 84,
   "metadata": {},
   "outputs": [
    {
     "data": {
      "text/plain": [
       "numpy.ndarray"
      ]
     },
     "execution_count": 84,
     "metadata": {},
     "output_type": "execute_result"
    }
   ],
   "source": [
    "type(stx)"
   ]
  },
  {
   "cell_type": "code",
   "execution_count": 88,
   "metadata": {},
   "outputs": [],
   "source": [
    "sts = np.matmul(s_matrix.T,s_matrix)\n"
   ]
  },
  {
   "cell_type": "code",
   "execution_count": 89,
   "metadata": {},
   "outputs": [
    {
     "data": {
      "text/plain": [
       "array([[120000., 114728.,  77324.,  85362.,  34834., 118094., 119810.,\n",
       "        119810., 119742., 116954., 116380., 119110., 116552.],\n",
       "       [114728., 120000.,  82596.,  83534.,  34118., 112822., 114538.,\n",
       "        114538., 114470., 111682., 112024., 113946., 112196.],\n",
       "       [ 77324.,  82596., 120000.,  74706.,  29002.,  75418.,  77134.,\n",
       "         77134.,  77066.,  74278.,  79880.,  77254.,  79492.],\n",
       "       [ 85362.,  83534.,  74706., 120000.,  34396.,  85332.,  85384.,\n",
       "         85384.,  85336.,  85480.,  85866.,  85344.,  85642.],\n",
       "       [ 34834.,  34118.,  29002.,  34396., 120000.,  34968.,  34844.,\n",
       "         34844.,  34820.,  34796.,  34946.,  34816.,  34898.],\n",
       "       [118094., 112822.,  75418.,  85332.,  34968., 120000., 118284.,\n",
       "        118284., 118208., 118452., 114906., 117860., 115182.],\n",
       "       [119810., 114538.,  77134.,  85384.,  34844., 118284., 120000.,\n",
       "        120000., 119908., 117144., 116530., 119292., 116678.],\n",
       "       [119810., 114538.,  77134.,  85384.,  34844., 118284., 120000.,\n",
       "        120000., 119908., 117144., 116530., 119292., 116678.],\n",
       "       [119742., 114470.,  77066.,  85336.,  34820., 118208., 119908.,\n",
       "        119908., 120000., 117060., 116458., 119204., 116638.],\n",
       "       [116954., 111682.,  74278.,  85480.,  34796., 118452., 117144.,\n",
       "        117144., 117060., 120000., 113818., 116700., 114098.],\n",
       "       [116380., 112024.,  79880.,  85866.,  34946., 114906., 116530.,\n",
       "        116530., 116458., 113818., 120000., 117014., 119380.],\n",
       "       [119110., 113946.,  77254.,  85344.,  34816., 117860., 119292.,\n",
       "        119292., 119204., 116700., 117014., 120000., 117094.],\n",
       "       [116552., 112196.,  79492.,  85642.,  34898., 115182., 116678.,\n",
       "        116678., 116638., 114098., 119380., 117094., 120000.]])"
      ]
     },
     "execution_count": 89,
     "metadata": {},
     "output_type": "execute_result"
    }
   ],
   "source": [
    "sts"
   ]
  },
  {
   "cell_type": "code",
   "execution_count": 91,
   "metadata": {},
   "outputs": [],
   "source": [
    "sts_inv = np.linalg.inv(sts)"
   ]
  },
  {
   "cell_type": "code",
   "execution_count": 92,
   "metadata": {},
   "outputs": [
    {
     "data": {
      "text/plain": [
       "array([[ 2.75116631e-03, -9.44981769e-05,  5.98642409e-07,\n",
       "        -2.09906561e-06, -2.33748808e-07,  4.16404666e-06,\n",
       "        -2.61501408e-04, -2.11306221e-03, -3.37799075e-04,\n",
       "         5.15969935e-07,  4.14571355e-05, -4.65186390e-06,\n",
       "        -4.74816228e-05],\n",
       "       [-9.44981769e-05,  1.08399548e-04, -1.34924710e-05,\n",
       "         1.13212926e-06, -6.42257743e-08,  7.61298631e-08,\n",
       "        -2.24929573e-05,  2.16525588e-05,  1.61413096e-06,\n",
       "        -3.33009956e-07,  4.10472739e-06,  2.24228666e-06,\n",
       "        -8.24331092e-06],\n",
       "       [ 5.98642409e-07, -1.34924710e-05,  1.81886247e-05,\n",
       "        -5.26090035e-06, -4.70355364e-07,  7.11337885e-07,\n",
       "         5.84510654e-05, -5.54050262e-05,  3.54936295e-06,\n",
       "         4.66602337e-06, -9.21013936e-06,  2.35213002e-06,\n",
       "        -6.35378974e-07],\n",
       "       [-2.09906561e-06,  1.13212926e-06, -5.26090035e-06,\n",
       "         1.93187761e-05, -1.27801433e-06, -6.19491484e-07,\n",
       "         3.50160894e-05, -3.14259476e-05, -1.45978819e-06,\n",
       "        -7.73596413e-06, -5.69041530e-06,  1.07824259e-06,\n",
       "         1.30703942e-06],\n",
       "       [-2.33748808e-07, -6.42257743e-08, -4.70355364e-07,\n",
       "        -1.27801433e-06,  9.25553773e-06, -1.06086394e-06,\n",
       "         3.51173753e-06, -3.15331484e-06,  1.63372122e-07,\n",
       "        -3.27296930e-07, -5.64356434e-07,  2.42399717e-07,\n",
       "        -7.57023033e-08],\n",
       "       [ 4.16404666e-06,  7.61298631e-08,  7.11337885e-07,\n",
       "        -6.19491484e-07, -1.06086394e-06,  5.52342984e-04,\n",
       "        -1.34056185e-04, -4.18925578e-05, -3.06159744e-05,\n",
       "        -2.88086474e-04,  3.19998693e-05, -6.38634771e-05,\n",
       "        -2.46832450e-05],\n",
       "       [-2.60559337e-03,  7.05392677e-05, -6.94482118e-05,\n",
       "        -1.30024408e-05, -1.60789182e-06,  1.50334185e-03,\n",
       "         4.09120606e+11, -4.09120606e+11,  1.00585292e-02,\n",
       "        -1.33953479e-03,  1.02026406e-02, -3.66953810e-03,\n",
       "        -9.87676354e-03],\n",
       "       [ 2.93621801e-04, -7.13332690e-05,  7.23379630e-05,\n",
       "         1.68286233e-05,  2.00938786e-06, -1.68349027e-03,\n",
       "        -4.09120606e+11,  4.09120606e+11, -1.51950039e-02,\n",
       "         1.28786950e-03, -1.03684414e-02,  3.03129982e-03,\n",
       "         1.00520147e-02],\n",
       "       [-3.37799075e-04,  1.61413096e-06,  3.54936295e-06,\n",
       "        -1.45978819e-06,  1.63372122e-07, -3.06159744e-05,\n",
       "        -6.86282068e-04, -4.45019264e-03,  5.51254670e-03,\n",
       "         1.50233948e-05,  1.20241571e-04,  1.07697895e-05,\n",
       "        -1.53623691e-04],\n",
       "       [ 5.15969935e-07, -3.33009956e-07,  4.66602337e-06,\n",
       "        -7.73596413e-06, -3.27296930e-07, -2.88086474e-04,\n",
       "        -3.34753305e-05, -1.81899557e-05,  1.50233948e-05,\n",
       "         3.33470916e-04,  6.11572954e-06, -5.28250723e-07,\n",
       "        -8.15055538e-06],\n",
       "       [ 4.14571355e-05,  4.10472739e-06, -9.21013936e-06,\n",
       "        -5.69041530e-06, -5.64356434e-07,  3.19998693e-05,\n",
       "        -4.90880736e-03,  4.74300662e-03,  1.20241571e-04,\n",
       "         6.11572954e-06,  8.59216157e-04, -1.11270478e-04,\n",
       "        -7.72170327e-04],\n",
       "       [-4.65186390e-06,  2.24228666e-06,  2.35213002e-06,\n",
       "         1.07824259e-06,  2.42399717e-07, -6.38634771e-05,\n",
       "         5.26295750e-07, -6.38764569e-04,  1.07697895e-05,\n",
       "        -5.28250723e-07, -1.11270478e-04,  8.42572432e-04,\n",
       "        -3.95456829e-05],\n",
       "       [-4.74816228e-05, -8.24331092e-06, -6.35378974e-07,\n",
       "         1.30703942e-06, -7.57023033e-08, -2.46832450e-05,\n",
       "         4.39505793e-03, -4.21980672e-03, -1.53623691e-04,\n",
       "        -8.15055538e-06, -7.72170327e-04, -3.95456829e-05,\n",
       "         8.78798667e-04]])"
      ]
     },
     "execution_count": 92,
     "metadata": {},
     "output_type": "execute_result"
    }
   ],
   "source": [
    "sts_inv"
   ]
  },
  {
   "cell_type": "code",
   "execution_count": 93,
   "metadata": {},
   "outputs": [],
   "source": [
    "als = np.matmul(sts_inv, stx)"
   ]
  },
  {
   "cell_type": "code",
   "execution_count": 94,
   "metadata": {},
   "outputs": [
    {
     "data": {
      "text/plain": [
       "array([[ -5.31753354],\n",
       "       [  0.05159532],\n",
       "       [  0.06522518],\n",
       "       [  0.29440381],\n",
       "       [  0.11823171],\n",
       "       [  0.54385074],\n",
       "       [-14.42471852],\n",
       "       [  9.37252472],\n",
       "       [  0.22520956],\n",
       "       [  0.06545242],\n",
       "       [ -0.07767324],\n",
       "       [  0.03231827],\n",
       "       [  0.15326898]])"
      ]
     },
     "execution_count": 94,
     "metadata": {},
     "output_type": "execute_result"
    }
   ],
   "source": [
    "als"
   ]
  },
  {
   "cell_type": "code",
   "execution_count": 95,
   "metadata": {},
   "outputs": [],
   "source": [
    "s_ensemble_1 = np.matmul(s_matrix, als)"
   ]
  },
  {
   "cell_type": "code",
   "execution_count": 96,
   "metadata": {},
   "outputs": [
    {
     "data": {
      "text/plain": [
       "array([[ 9.13430801],\n",
       "       [ 9.61710257],\n",
       "       [ 8.89784459],\n",
       "       ...,\n",
       "       [-8.89784459],\n",
       "       [ 8.89784459],\n",
       "       [-8.89784459]])"
      ]
     },
     "execution_count": 96,
     "metadata": {},
     "output_type": "execute_result"
    }
   ],
   "source": [
    "s_ensemble_1"
   ]
  },
  {
   "cell_type": "code",
   "execution_count": 97,
   "metadata": {},
   "outputs": [
    {
     "data": {
      "text/plain": [
       "120000"
      ]
     },
     "execution_count": 97,
     "metadata": {},
     "output_type": "execute_result"
    }
   ],
   "source": [
    "len(s_ensemble_1)"
   ]
  },
  {
   "cell_type": "code",
   "execution_count": 99,
   "metadata": {},
   "outputs": [
    {
     "data": {
      "text/plain": [
       "array([[ 9.13430801],\n",
       "       [ 9.61710257],\n",
       "       [ 8.89784459],\n",
       "       [ 8.89784459],\n",
       "       [-8.89784459],\n",
       "       [-8.89784459]])"
      ]
     },
     "execution_count": 99,
     "metadata": {},
     "output_type": "execute_result"
    }
   ],
   "source": [
    "s_ensemble_1[0:6]"
   ]
  },
  {
   "cell_type": "code",
   "execution_count": 103,
   "metadata": {},
   "outputs": [
    {
     "ename": "TypeError",
     "evalue": "'ascending' is an invalid keyword argument for sort()",
     "output_type": "error",
     "traceback": [
      "\u001b[0;31m---------------------------------------------------------------------------\u001b[0m",
      "\u001b[0;31mTypeError\u001b[0m                                 Traceback (most recent call last)",
      "\u001b[0;32m<ipython-input-103-ea8174715549>\u001b[0m in \u001b[0;36m<module>\u001b[0;34m\u001b[0m\n\u001b[0;32m----> 1\u001b[0;31m \u001b[0ms_ensemble_1\u001b[0m\u001b[0;34m[\u001b[0m\u001b[0;36m0\u001b[0m\u001b[0;34m:\u001b[0m\u001b[0;36m6\u001b[0m\u001b[0;34m]\u001b[0m\u001b[0;34m.\u001b[0m\u001b[0msort\u001b[0m\u001b[0;34m(\u001b[0m\u001b[0mascending\u001b[0m\u001b[0;34m=\u001b[0m\u001b[0;32mFalse\u001b[0m\u001b[0;34m)\u001b[0m\u001b[0;34m\u001b[0m\u001b[0;34m\u001b[0m\u001b[0m\n\u001b[0m",
      "\u001b[0;31mTypeError\u001b[0m: 'ascending' is an invalid keyword argument for sort()"
     ]
    }
   ],
   "source": [
    "s_ensemble_1[0:6].sort(ascending=False)"
   ]
  },
  {
   "cell_type": "code",
   "execution_count": 101,
   "metadata": {},
   "outputs": [
    {
     "data": {
      "text/plain": [
       "array([[ 9.13430801],\n",
       "       [ 9.61710257],\n",
       "       [ 8.89784459],\n",
       "       [ 8.89784459],\n",
       "       [-8.89784459],\n",
       "       [-8.89784459]])"
      ]
     },
     "execution_count": 101,
     "metadata": {},
     "output_type": "execute_result"
    }
   ],
   "source": [
    "s_ensemble_1[0:6]"
   ]
  },
  {
   "cell_type": "code",
   "execution_count": 185,
   "metadata": {},
   "outputs": [],
   "source": [
    "ans_1 = pd.read_csv('lr_answer.csv')"
   ]
  },
  {
   "cell_type": "code",
   "execution_count": 186,
   "metadata": {},
   "outputs": [
    {
     "data": {
      "text/html": [
       "<div>\n",
       "<style scoped>\n",
       "    .dataframe tbody tr th:only-of-type {\n",
       "        vertical-align: middle;\n",
       "    }\n",
       "\n",
       "    .dataframe tbody tr th {\n",
       "        vertical-align: top;\n",
       "    }\n",
       "\n",
       "    .dataframe thead th {\n",
       "        text-align: right;\n",
       "    }\n",
       "</style>\n",
       "<table border=\"1\" class=\"dataframe\">\n",
       "  <thead>\n",
       "    <tr style=\"text-align: right;\">\n",
       "      <th></th>\n",
       "      <th>TrackID</th>\n",
       "      <th>Predictor</th>\n",
       "    </tr>\n",
       "  </thead>\n",
       "  <tbody>\n",
       "    <tr>\n",
       "      <th>0</th>\n",
       "      <td>199810_208019</td>\n",
       "      <td>0.0</td>\n",
       "    </tr>\n",
       "    <tr>\n",
       "      <th>1</th>\n",
       "      <td>199810_74139</td>\n",
       "      <td>0.0</td>\n",
       "    </tr>\n",
       "    <tr>\n",
       "      <th>2</th>\n",
       "      <td>199810_9903</td>\n",
       "      <td>0.0</td>\n",
       "    </tr>\n",
       "    <tr>\n",
       "      <th>3</th>\n",
       "      <td>199810_242681</td>\n",
       "      <td>0.0</td>\n",
       "    </tr>\n",
       "    <tr>\n",
       "      <th>4</th>\n",
       "      <td>199810_18515</td>\n",
       "      <td>1.0</td>\n",
       "    </tr>\n",
       "  </tbody>\n",
       "</table>\n",
       "</div>"
      ],
      "text/plain": [
       "         TrackID  Predictor\n",
       "0  199810_208019        0.0\n",
       "1   199810_74139        0.0\n",
       "2    199810_9903        0.0\n",
       "3  199810_242681        0.0\n",
       "4   199810_18515        1.0"
      ]
     },
     "execution_count": 186,
     "metadata": {},
     "output_type": "execute_result"
    }
   ],
   "source": [
    "ans_1.head()"
   ]
  },
  {
   "cell_type": "code",
   "execution_count": 187,
   "metadata": {},
   "outputs": [
    {
     "name": "stderr",
     "output_type": "stream",
     "text": [
      "/Users/Sivankit/anaconda3/envs/tf2/lib/python3.7/site-packages/ipykernel_launcher.py:2: SettingWithCopyWarning: \n",
      "A value is trying to be set on a copy of a slice from a DataFrame\n",
      "\n",
      "See the caveats in the documentation: http://pandas.pydata.org/pandas-docs/stable/user_guide/indexing.html#returning-a-view-versus-a-copy\n",
      "  \n"
     ]
    }
   ],
   "source": [
    "for i in range(len(ans_1)):\n",
    "    ans_1['Predictor'][i] = s_ensemble_1[i]"
   ]
  },
  {
   "cell_type": "code",
   "execution_count": 188,
   "metadata": {},
   "outputs": [
    {
     "data": {
      "text/html": [
       "<div>\n",
       "<style scoped>\n",
       "    .dataframe tbody tr th:only-of-type {\n",
       "        vertical-align: middle;\n",
       "    }\n",
       "\n",
       "    .dataframe tbody tr th {\n",
       "        vertical-align: top;\n",
       "    }\n",
       "\n",
       "    .dataframe thead th {\n",
       "        text-align: right;\n",
       "    }\n",
       "</style>\n",
       "<table border=\"1\" class=\"dataframe\">\n",
       "  <thead>\n",
       "    <tr style=\"text-align: right;\">\n",
       "      <th></th>\n",
       "      <th>TrackID</th>\n",
       "      <th>Predictor</th>\n",
       "    </tr>\n",
       "  </thead>\n",
       "  <tbody>\n",
       "    <tr>\n",
       "      <th>0</th>\n",
       "      <td>199810_208019</td>\n",
       "      <td>9.134308</td>\n",
       "    </tr>\n",
       "    <tr>\n",
       "      <th>1</th>\n",
       "      <td>199810_74139</td>\n",
       "      <td>9.617103</td>\n",
       "    </tr>\n",
       "    <tr>\n",
       "      <th>2</th>\n",
       "      <td>199810_9903</td>\n",
       "      <td>8.897845</td>\n",
       "    </tr>\n",
       "    <tr>\n",
       "      <th>3</th>\n",
       "      <td>199810_242681</td>\n",
       "      <td>8.897845</td>\n",
       "    </tr>\n",
       "    <tr>\n",
       "      <th>4</th>\n",
       "      <td>199810_18515</td>\n",
       "      <td>-8.897845</td>\n",
       "    </tr>\n",
       "  </tbody>\n",
       "</table>\n",
       "</div>"
      ],
      "text/plain": [
       "         TrackID  Predictor\n",
       "0  199810_208019   9.134308\n",
       "1   199810_74139   9.617103\n",
       "2    199810_9903   8.897845\n",
       "3  199810_242681   8.897845\n",
       "4   199810_18515  -8.897845"
      ]
     },
     "execution_count": 188,
     "metadata": {},
     "output_type": "execute_result"
    }
   ],
   "source": [
    "ans_1.head()"
   ]
  },
  {
   "cell_type": "code",
   "execution_count": 189,
   "metadata": {},
   "outputs": [
    {
     "data": {
      "text/plain": [
       "0    9.134308\n",
       "1    9.617103\n",
       "2    8.897845\n",
       "3    8.897845\n",
       "4   -8.897845\n",
       "5   -8.897845\n",
       "Name: Predictor, dtype: float64"
      ]
     },
     "execution_count": 189,
     "metadata": {},
     "output_type": "execute_result"
    }
   ],
   "source": [
    "ans_1['Predictor'][0:6]"
   ]
  },
  {
   "cell_type": "code",
   "execution_count": 190,
   "metadata": {},
   "outputs": [
    {
     "data": {
      "text/plain": [
       "1    9.617103\n",
       "0    9.134308\n",
       "2    8.897845\n",
       "Name: Predictor, dtype: float64"
      ]
     },
     "execution_count": 190,
     "metadata": {},
     "output_type": "execute_result"
    }
   ],
   "source": [
    "ans_1['Predictor'][0:6].nlargest(3)"
   ]
  },
  {
   "cell_type": "code",
   "execution_count": 191,
   "metadata": {},
   "outputs": [
    {
     "data": {
      "text/plain": [
       "4   -8.897845\n",
       "5   -8.897845\n",
       "2    8.897845\n",
       "Name: Predictor, dtype: float64"
      ]
     },
     "execution_count": 191,
     "metadata": {},
     "output_type": "execute_result"
    }
   ],
   "source": [
    "ans_1['Predictor'][0:6].nsmallest(3)"
   ]
  },
  {
   "cell_type": "code",
   "execution_count": 192,
   "metadata": {},
   "outputs": [
    {
     "data": {
      "text/html": [
       "<div>\n",
       "<style scoped>\n",
       "    .dataframe tbody tr th:only-of-type {\n",
       "        vertical-align: middle;\n",
       "    }\n",
       "\n",
       "    .dataframe tbody tr th {\n",
       "        vertical-align: top;\n",
       "    }\n",
       "\n",
       "    .dataframe thead th {\n",
       "        text-align: right;\n",
       "    }\n",
       "</style>\n",
       "<table border=\"1\" class=\"dataframe\">\n",
       "  <thead>\n",
       "    <tr style=\"text-align: right;\">\n",
       "      <th></th>\n",
       "      <th>TrackID</th>\n",
       "      <th>Predictor</th>\n",
       "    </tr>\n",
       "  </thead>\n",
       "  <tbody>\n",
       "    <tr>\n",
       "      <th>0</th>\n",
       "      <td>199810_208019</td>\n",
       "      <td>9.134308</td>\n",
       "    </tr>\n",
       "    <tr>\n",
       "      <th>1</th>\n",
       "      <td>199810_74139</td>\n",
       "      <td>9.617103</td>\n",
       "    </tr>\n",
       "    <tr>\n",
       "      <th>2</th>\n",
       "      <td>199810_9903</td>\n",
       "      <td>8.897845</td>\n",
       "    </tr>\n",
       "    <tr>\n",
       "      <th>3</th>\n",
       "      <td>199810_242681</td>\n",
       "      <td>8.897845</td>\n",
       "    </tr>\n",
       "    <tr>\n",
       "      <th>4</th>\n",
       "      <td>199810_18515</td>\n",
       "      <td>-8.897845</td>\n",
       "    </tr>\n",
       "    <tr>\n",
       "      <th>5</th>\n",
       "      <td>199810_105760</td>\n",
       "      <td>-8.897845</td>\n",
       "    </tr>\n",
       "    <tr>\n",
       "      <th>6</th>\n",
       "      <td>199812_276940</td>\n",
       "      <td>8.897845</td>\n",
       "    </tr>\n",
       "    <tr>\n",
       "      <th>7</th>\n",
       "      <td>199812_142408</td>\n",
       "      <td>-8.897845</td>\n",
       "    </tr>\n",
       "    <tr>\n",
       "      <th>8</th>\n",
       "      <td>199812_130023</td>\n",
       "      <td>-9.134308</td>\n",
       "    </tr>\n",
       "    <tr>\n",
       "      <th>9</th>\n",
       "      <td>199812_29189</td>\n",
       "      <td>9.028295</td>\n",
       "    </tr>\n",
       "    <tr>\n",
       "      <th>10</th>\n",
       "      <td>199812_223706</td>\n",
       "      <td>-8.897845</td>\n",
       "    </tr>\n",
       "    <tr>\n",
       "      <th>11</th>\n",
       "      <td>199812_211361</td>\n",
       "      <td>9.134308</td>\n",
       "    </tr>\n",
       "  </tbody>\n",
       "</table>\n",
       "</div>"
      ],
      "text/plain": [
       "          TrackID  Predictor\n",
       "0   199810_208019   9.134308\n",
       "1    199810_74139   9.617103\n",
       "2     199810_9903   8.897845\n",
       "3   199810_242681   8.897845\n",
       "4    199810_18515  -8.897845\n",
       "5   199810_105760  -8.897845\n",
       "6   199812_276940   8.897845\n",
       "7   199812_142408  -8.897845\n",
       "8   199812_130023  -9.134308\n",
       "9    199812_29189   9.028295\n",
       "10  199812_223706  -8.897845\n",
       "11  199812_211361   9.134308"
      ]
     },
     "execution_count": 192,
     "metadata": {},
     "output_type": "execute_result"
    }
   ],
   "source": [
    "ans_1.head(12)"
   ]
  },
  {
   "cell_type": "code",
   "execution_count": 193,
   "metadata": {},
   "outputs": [
    {
     "data": {
      "text/html": [
       "<div>\n",
       "<style scoped>\n",
       "    .dataframe tbody tr th:only-of-type {\n",
       "        vertical-align: middle;\n",
       "    }\n",
       "\n",
       "    .dataframe tbody tr th {\n",
       "        vertical-align: top;\n",
       "    }\n",
       "\n",
       "    .dataframe thead th {\n",
       "        text-align: right;\n",
       "    }\n",
       "</style>\n",
       "<table border=\"1\" class=\"dataframe\">\n",
       "  <thead>\n",
       "    <tr style=\"text-align: right;\">\n",
       "      <th></th>\n",
       "      <th>TrackID</th>\n",
       "      <th>Predictor</th>\n",
       "    </tr>\n",
       "  </thead>\n",
       "  <tbody>\n",
       "    <tr>\n",
       "      <th>119988</th>\n",
       "      <td>249008_4967</td>\n",
       "      <td>-9.134308</td>\n",
       "    </tr>\n",
       "    <tr>\n",
       "      <th>119989</th>\n",
       "      <td>249008_164591</td>\n",
       "      <td>-9.134308</td>\n",
       "    </tr>\n",
       "    <tr>\n",
       "      <th>119990</th>\n",
       "      <td>249008_127497</td>\n",
       "      <td>8.897845</td>\n",
       "    </tr>\n",
       "    <tr>\n",
       "      <th>119991</th>\n",
       "      <td>249008_165413</td>\n",
       "      <td>-8.897845</td>\n",
       "    </tr>\n",
       "    <tr>\n",
       "      <th>119992</th>\n",
       "      <td>249008_197975</td>\n",
       "      <td>9.134308</td>\n",
       "    </tr>\n",
       "    <tr>\n",
       "      <th>119993</th>\n",
       "      <td>249008_239621</td>\n",
       "      <td>9.134308</td>\n",
       "    </tr>\n",
       "    <tr>\n",
       "      <th>119994</th>\n",
       "      <td>249010_110470</td>\n",
       "      <td>-9.134308</td>\n",
       "    </tr>\n",
       "    <tr>\n",
       "      <th>119995</th>\n",
       "      <td>249010_72192</td>\n",
       "      <td>9.134308</td>\n",
       "    </tr>\n",
       "    <tr>\n",
       "      <th>119996</th>\n",
       "      <td>249010_86104</td>\n",
       "      <td>8.897845</td>\n",
       "    </tr>\n",
       "    <tr>\n",
       "      <th>119997</th>\n",
       "      <td>249010_186634</td>\n",
       "      <td>-8.897845</td>\n",
       "    </tr>\n",
       "    <tr>\n",
       "      <th>119998</th>\n",
       "      <td>249010_293818</td>\n",
       "      <td>8.897845</td>\n",
       "    </tr>\n",
       "    <tr>\n",
       "      <th>119999</th>\n",
       "      <td>249010_262811</td>\n",
       "      <td>-8.897845</td>\n",
       "    </tr>\n",
       "  </tbody>\n",
       "</table>\n",
       "</div>"
      ],
      "text/plain": [
       "              TrackID  Predictor\n",
       "119988    249008_4967  -9.134308\n",
       "119989  249008_164591  -9.134308\n",
       "119990  249008_127497   8.897845\n",
       "119991  249008_165413  -8.897845\n",
       "119992  249008_197975   9.134308\n",
       "119993  249008_239621   9.134308\n",
       "119994  249010_110470  -9.134308\n",
       "119995   249010_72192   9.134308\n",
       "119996   249010_86104   8.897845\n",
       "119997  249010_186634  -8.897845\n",
       "119998  249010_293818   8.897845\n",
       "119999  249010_262811  -8.897845"
      ]
     },
     "execution_count": 193,
     "metadata": {},
     "output_type": "execute_result"
    }
   ],
   "source": [
    "ans_1.tail(12)"
   ]
  },
  {
   "cell_type": "code",
   "execution_count": 194,
   "metadata": {},
   "outputs": [
    {
     "name": "stderr",
     "output_type": "stream",
     "text": [
      "/Users/Sivankit/anaconda3/envs/tf2/lib/python3.7/site-packages/ipykernel_launcher.py:4: SettingWithCopyWarning: \n",
      "A value is trying to be set on a copy of a slice from a DataFrame\n",
      "\n",
      "See the caveats in the documentation: http://pandas.pydata.org/pandas-docs/stable/user_guide/indexing.html#returning-a-view-versus-a-copy\n",
      "  after removing the cwd from sys.path.\n"
     ]
    }
   ],
   "source": [
    "start=0\n",
    "end=6\n",
    "while end <=120000:\n",
    "    ans_1['Predictor'][ans_1['Predictor'][start:end].nlargest(3).index[0:3]] = 1.0\n",
    "    \n",
    "    start=end\n",
    "    end +=6"
   ]
  },
  {
   "cell_type": "code",
   "execution_count": 195,
   "metadata": {},
   "outputs": [
    {
     "data": {
      "text/html": [
       "<div>\n",
       "<style scoped>\n",
       "    .dataframe tbody tr th:only-of-type {\n",
       "        vertical-align: middle;\n",
       "    }\n",
       "\n",
       "    .dataframe tbody tr th {\n",
       "        vertical-align: top;\n",
       "    }\n",
       "\n",
       "    .dataframe thead th {\n",
       "        text-align: right;\n",
       "    }\n",
       "</style>\n",
       "<table border=\"1\" class=\"dataframe\">\n",
       "  <thead>\n",
       "    <tr style=\"text-align: right;\">\n",
       "      <th></th>\n",
       "      <th>TrackID</th>\n",
       "      <th>Predictor</th>\n",
       "    </tr>\n",
       "  </thead>\n",
       "  <tbody>\n",
       "    <tr>\n",
       "      <th>0</th>\n",
       "      <td>199810_208019</td>\n",
       "      <td>1.000000</td>\n",
       "    </tr>\n",
       "    <tr>\n",
       "      <th>1</th>\n",
       "      <td>199810_74139</td>\n",
       "      <td>1.000000</td>\n",
       "    </tr>\n",
       "    <tr>\n",
       "      <th>2</th>\n",
       "      <td>199810_9903</td>\n",
       "      <td>1.000000</td>\n",
       "    </tr>\n",
       "    <tr>\n",
       "      <th>3</th>\n",
       "      <td>199810_242681</td>\n",
       "      <td>8.897845</td>\n",
       "    </tr>\n",
       "    <tr>\n",
       "      <th>4</th>\n",
       "      <td>199810_18515</td>\n",
       "      <td>-8.897845</td>\n",
       "    </tr>\n",
       "    <tr>\n",
       "      <th>5</th>\n",
       "      <td>199810_105760</td>\n",
       "      <td>-8.897845</td>\n",
       "    </tr>\n",
       "    <tr>\n",
       "      <th>6</th>\n",
       "      <td>199812_276940</td>\n",
       "      <td>1.000000</td>\n",
       "    </tr>\n",
       "    <tr>\n",
       "      <th>7</th>\n",
       "      <td>199812_142408</td>\n",
       "      <td>-8.897845</td>\n",
       "    </tr>\n",
       "    <tr>\n",
       "      <th>8</th>\n",
       "      <td>199812_130023</td>\n",
       "      <td>-9.134308</td>\n",
       "    </tr>\n",
       "    <tr>\n",
       "      <th>9</th>\n",
       "      <td>199812_29189</td>\n",
       "      <td>1.000000</td>\n",
       "    </tr>\n",
       "    <tr>\n",
       "      <th>10</th>\n",
       "      <td>199812_223706</td>\n",
       "      <td>-8.897845</td>\n",
       "    </tr>\n",
       "    <tr>\n",
       "      <th>11</th>\n",
       "      <td>199812_211361</td>\n",
       "      <td>1.000000</td>\n",
       "    </tr>\n",
       "  </tbody>\n",
       "</table>\n",
       "</div>"
      ],
      "text/plain": [
       "          TrackID  Predictor\n",
       "0   199810_208019   1.000000\n",
       "1    199810_74139   1.000000\n",
       "2     199810_9903   1.000000\n",
       "3   199810_242681   8.897845\n",
       "4    199810_18515  -8.897845\n",
       "5   199810_105760  -8.897845\n",
       "6   199812_276940   1.000000\n",
       "7   199812_142408  -8.897845\n",
       "8   199812_130023  -9.134308\n",
       "9    199812_29189   1.000000\n",
       "10  199812_223706  -8.897845\n",
       "11  199812_211361   1.000000"
      ]
     },
     "execution_count": 195,
     "metadata": {},
     "output_type": "execute_result"
    }
   ],
   "source": [
    "ans_1.head(12)"
   ]
  },
  {
   "cell_type": "code",
   "execution_count": 196,
   "metadata": {},
   "outputs": [
    {
     "data": {
      "text/html": [
       "<div>\n",
       "<style scoped>\n",
       "    .dataframe tbody tr th:only-of-type {\n",
       "        vertical-align: middle;\n",
       "    }\n",
       "\n",
       "    .dataframe tbody tr th {\n",
       "        vertical-align: top;\n",
       "    }\n",
       "\n",
       "    .dataframe thead th {\n",
       "        text-align: right;\n",
       "    }\n",
       "</style>\n",
       "<table border=\"1\" class=\"dataframe\">\n",
       "  <thead>\n",
       "    <tr style=\"text-align: right;\">\n",
       "      <th></th>\n",
       "      <th>TrackID</th>\n",
       "      <th>Predictor</th>\n",
       "    </tr>\n",
       "  </thead>\n",
       "  <tbody>\n",
       "    <tr>\n",
       "      <th>119988</th>\n",
       "      <td>249008_4967</td>\n",
       "      <td>-9.134308</td>\n",
       "    </tr>\n",
       "    <tr>\n",
       "      <th>119989</th>\n",
       "      <td>249008_164591</td>\n",
       "      <td>-9.134308</td>\n",
       "    </tr>\n",
       "    <tr>\n",
       "      <th>119990</th>\n",
       "      <td>249008_127497</td>\n",
       "      <td>1.000000</td>\n",
       "    </tr>\n",
       "    <tr>\n",
       "      <th>119991</th>\n",
       "      <td>249008_165413</td>\n",
       "      <td>-8.897845</td>\n",
       "    </tr>\n",
       "    <tr>\n",
       "      <th>119992</th>\n",
       "      <td>249008_197975</td>\n",
       "      <td>1.000000</td>\n",
       "    </tr>\n",
       "    <tr>\n",
       "      <th>119993</th>\n",
       "      <td>249008_239621</td>\n",
       "      <td>1.000000</td>\n",
       "    </tr>\n",
       "    <tr>\n",
       "      <th>119994</th>\n",
       "      <td>249010_110470</td>\n",
       "      <td>-9.134308</td>\n",
       "    </tr>\n",
       "    <tr>\n",
       "      <th>119995</th>\n",
       "      <td>249010_72192</td>\n",
       "      <td>1.000000</td>\n",
       "    </tr>\n",
       "    <tr>\n",
       "      <th>119996</th>\n",
       "      <td>249010_86104</td>\n",
       "      <td>1.000000</td>\n",
       "    </tr>\n",
       "    <tr>\n",
       "      <th>119997</th>\n",
       "      <td>249010_186634</td>\n",
       "      <td>-8.897845</td>\n",
       "    </tr>\n",
       "    <tr>\n",
       "      <th>119998</th>\n",
       "      <td>249010_293818</td>\n",
       "      <td>1.000000</td>\n",
       "    </tr>\n",
       "    <tr>\n",
       "      <th>119999</th>\n",
       "      <td>249010_262811</td>\n",
       "      <td>-8.897845</td>\n",
       "    </tr>\n",
       "  </tbody>\n",
       "</table>\n",
       "</div>"
      ],
      "text/plain": [
       "              TrackID  Predictor\n",
       "119988    249008_4967  -9.134308\n",
       "119989  249008_164591  -9.134308\n",
       "119990  249008_127497   1.000000\n",
       "119991  249008_165413  -8.897845\n",
       "119992  249008_197975   1.000000\n",
       "119993  249008_239621   1.000000\n",
       "119994  249010_110470  -9.134308\n",
       "119995   249010_72192   1.000000\n",
       "119996   249010_86104   1.000000\n",
       "119997  249010_186634  -8.897845\n",
       "119998  249010_293818   1.000000\n",
       "119999  249010_262811  -8.897845"
      ]
     },
     "execution_count": 196,
     "metadata": {},
     "output_type": "execute_result"
    }
   ],
   "source": [
    "ans_1.tail(12)"
   ]
  },
  {
   "cell_type": "code",
   "execution_count": 197,
   "metadata": {},
   "outputs": [
    {
     "name": "stderr",
     "output_type": "stream",
     "text": [
      "/Users/Sivankit/anaconda3/envs/tf2/lib/python3.7/site-packages/ipykernel_launcher.py:3: SettingWithCopyWarning: \n",
      "A value is trying to be set on a copy of a slice from a DataFrame\n",
      "\n",
      "See the caveats in the documentation: http://pandas.pydata.org/pandas-docs/stable/user_guide/indexing.html#returning-a-view-versus-a-copy\n",
      "  This is separate from the ipykernel package so we can avoid doing imports until\n"
     ]
    }
   ],
   "source": [
    "for i in range(len(ans_1)):\n",
    "    if ans_1['Predictor'][i] != 1.0:\n",
    "        ans_1['Predictor'][i] = 0.0"
   ]
  },
  {
   "cell_type": "code",
   "execution_count": 198,
   "metadata": {},
   "outputs": [
    {
     "data": {
      "text/html": [
       "<div>\n",
       "<style scoped>\n",
       "    .dataframe tbody tr th:only-of-type {\n",
       "        vertical-align: middle;\n",
       "    }\n",
       "\n",
       "    .dataframe tbody tr th {\n",
       "        vertical-align: top;\n",
       "    }\n",
       "\n",
       "    .dataframe thead th {\n",
       "        text-align: right;\n",
       "    }\n",
       "</style>\n",
       "<table border=\"1\" class=\"dataframe\">\n",
       "  <thead>\n",
       "    <tr style=\"text-align: right;\">\n",
       "      <th></th>\n",
       "      <th>TrackID</th>\n",
       "      <th>Predictor</th>\n",
       "    </tr>\n",
       "  </thead>\n",
       "  <tbody>\n",
       "    <tr>\n",
       "      <th>0</th>\n",
       "      <td>199810_208019</td>\n",
       "      <td>1.0</td>\n",
       "    </tr>\n",
       "    <tr>\n",
       "      <th>1</th>\n",
       "      <td>199810_74139</td>\n",
       "      <td>1.0</td>\n",
       "    </tr>\n",
       "    <tr>\n",
       "      <th>2</th>\n",
       "      <td>199810_9903</td>\n",
       "      <td>1.0</td>\n",
       "    </tr>\n",
       "    <tr>\n",
       "      <th>3</th>\n",
       "      <td>199810_242681</td>\n",
       "      <td>0.0</td>\n",
       "    </tr>\n",
       "    <tr>\n",
       "      <th>4</th>\n",
       "      <td>199810_18515</td>\n",
       "      <td>0.0</td>\n",
       "    </tr>\n",
       "    <tr>\n",
       "      <th>5</th>\n",
       "      <td>199810_105760</td>\n",
       "      <td>0.0</td>\n",
       "    </tr>\n",
       "    <tr>\n",
       "      <th>6</th>\n",
       "      <td>199812_276940</td>\n",
       "      <td>1.0</td>\n",
       "    </tr>\n",
       "    <tr>\n",
       "      <th>7</th>\n",
       "      <td>199812_142408</td>\n",
       "      <td>0.0</td>\n",
       "    </tr>\n",
       "    <tr>\n",
       "      <th>8</th>\n",
       "      <td>199812_130023</td>\n",
       "      <td>0.0</td>\n",
       "    </tr>\n",
       "    <tr>\n",
       "      <th>9</th>\n",
       "      <td>199812_29189</td>\n",
       "      <td>1.0</td>\n",
       "    </tr>\n",
       "    <tr>\n",
       "      <th>10</th>\n",
       "      <td>199812_223706</td>\n",
       "      <td>0.0</td>\n",
       "    </tr>\n",
       "    <tr>\n",
       "      <th>11</th>\n",
       "      <td>199812_211361</td>\n",
       "      <td>1.0</td>\n",
       "    </tr>\n",
       "  </tbody>\n",
       "</table>\n",
       "</div>"
      ],
      "text/plain": [
       "          TrackID  Predictor\n",
       "0   199810_208019        1.0\n",
       "1    199810_74139        1.0\n",
       "2     199810_9903        1.0\n",
       "3   199810_242681        0.0\n",
       "4    199810_18515        0.0\n",
       "5   199810_105760        0.0\n",
       "6   199812_276940        1.0\n",
       "7   199812_142408        0.0\n",
       "8   199812_130023        0.0\n",
       "9    199812_29189        1.0\n",
       "10  199812_223706        0.0\n",
       "11  199812_211361        1.0"
      ]
     },
     "execution_count": 198,
     "metadata": {},
     "output_type": "execute_result"
    }
   ],
   "source": [
    "ans_1.head(12)"
   ]
  },
  {
   "cell_type": "code",
   "execution_count": 199,
   "metadata": {},
   "outputs": [
    {
     "data": {
      "text/html": [
       "<div>\n",
       "<style scoped>\n",
       "    .dataframe tbody tr th:only-of-type {\n",
       "        vertical-align: middle;\n",
       "    }\n",
       "\n",
       "    .dataframe tbody tr th {\n",
       "        vertical-align: top;\n",
       "    }\n",
       "\n",
       "    .dataframe thead th {\n",
       "        text-align: right;\n",
       "    }\n",
       "</style>\n",
       "<table border=\"1\" class=\"dataframe\">\n",
       "  <thead>\n",
       "    <tr style=\"text-align: right;\">\n",
       "      <th></th>\n",
       "      <th>TrackID</th>\n",
       "      <th>Predictor</th>\n",
       "    </tr>\n",
       "  </thead>\n",
       "  <tbody>\n",
       "    <tr>\n",
       "      <th>119988</th>\n",
       "      <td>249008_4967</td>\n",
       "      <td>0.0</td>\n",
       "    </tr>\n",
       "    <tr>\n",
       "      <th>119989</th>\n",
       "      <td>249008_164591</td>\n",
       "      <td>0.0</td>\n",
       "    </tr>\n",
       "    <tr>\n",
       "      <th>119990</th>\n",
       "      <td>249008_127497</td>\n",
       "      <td>1.0</td>\n",
       "    </tr>\n",
       "    <tr>\n",
       "      <th>119991</th>\n",
       "      <td>249008_165413</td>\n",
       "      <td>0.0</td>\n",
       "    </tr>\n",
       "    <tr>\n",
       "      <th>119992</th>\n",
       "      <td>249008_197975</td>\n",
       "      <td>1.0</td>\n",
       "    </tr>\n",
       "    <tr>\n",
       "      <th>119993</th>\n",
       "      <td>249008_239621</td>\n",
       "      <td>1.0</td>\n",
       "    </tr>\n",
       "    <tr>\n",
       "      <th>119994</th>\n",
       "      <td>249010_110470</td>\n",
       "      <td>0.0</td>\n",
       "    </tr>\n",
       "    <tr>\n",
       "      <th>119995</th>\n",
       "      <td>249010_72192</td>\n",
       "      <td>1.0</td>\n",
       "    </tr>\n",
       "    <tr>\n",
       "      <th>119996</th>\n",
       "      <td>249010_86104</td>\n",
       "      <td>1.0</td>\n",
       "    </tr>\n",
       "    <tr>\n",
       "      <th>119997</th>\n",
       "      <td>249010_186634</td>\n",
       "      <td>0.0</td>\n",
       "    </tr>\n",
       "    <tr>\n",
       "      <th>119998</th>\n",
       "      <td>249010_293818</td>\n",
       "      <td>1.0</td>\n",
       "    </tr>\n",
       "    <tr>\n",
       "      <th>119999</th>\n",
       "      <td>249010_262811</td>\n",
       "      <td>0.0</td>\n",
       "    </tr>\n",
       "  </tbody>\n",
       "</table>\n",
       "</div>"
      ],
      "text/plain": [
       "              TrackID  Predictor\n",
       "119988    249008_4967        0.0\n",
       "119989  249008_164591        0.0\n",
       "119990  249008_127497        1.0\n",
       "119991  249008_165413        0.0\n",
       "119992  249008_197975        1.0\n",
       "119993  249008_239621        1.0\n",
       "119994  249010_110470        0.0\n",
       "119995   249010_72192        1.0\n",
       "119996   249010_86104        1.0\n",
       "119997  249010_186634        0.0\n",
       "119998  249010_293818        1.0\n",
       "119999  249010_262811        0.0"
      ]
     },
     "execution_count": 199,
     "metadata": {},
     "output_type": "execute_result"
    }
   ],
   "source": [
    "ans_1.tail(12)"
   ]
  },
  {
   "cell_type": "code",
   "execution_count": 200,
   "metadata": {},
   "outputs": [],
   "source": [
    "ans_1.to_csv('ensemble_1.csv', index=False)"
   ]
  },
  {
   "cell_type": "code",
   "execution_count": 201,
   "metadata": {},
   "outputs": [
    {
     "data": {
      "text/plain": [
       "0.0    60000\n",
       "1.0    60000\n",
       "Name: Predictor, dtype: int64"
      ]
     },
     "execution_count": 201,
     "metadata": {},
     "output_type": "execute_result"
    }
   ],
   "source": [
    "ans_1['Predictor'].value_counts()"
   ]
  },
  {
   "cell_type": "code",
   "execution_count": 202,
   "metadata": {},
   "outputs": [
    {
     "data": {
      "text/html": [
       "<div>\n",
       "<style scoped>\n",
       "    .dataframe tbody tr th:only-of-type {\n",
       "        vertical-align: middle;\n",
       "    }\n",
       "\n",
       "    .dataframe tbody tr th {\n",
       "        vertical-align: top;\n",
       "    }\n",
       "\n",
       "    .dataframe thead th {\n",
       "        text-align: right;\n",
       "    }\n",
       "</style>\n",
       "<table border=\"1\" class=\"dataframe\">\n",
       "  <thead>\n",
       "    <tr style=\"text-align: right;\">\n",
       "      <th></th>\n",
       "      <th>TrackID</th>\n",
       "      <th>Predictor</th>\n",
       "    </tr>\n",
       "  </thead>\n",
       "  <tbody>\n",
       "    <tr>\n",
       "      <th>0</th>\n",
       "      <td>199810_208019</td>\n",
       "      <td>1.0</td>\n",
       "    </tr>\n",
       "    <tr>\n",
       "      <th>1</th>\n",
       "      <td>199810_74139</td>\n",
       "      <td>1.0</td>\n",
       "    </tr>\n",
       "    <tr>\n",
       "      <th>2</th>\n",
       "      <td>199810_9903</td>\n",
       "      <td>1.0</td>\n",
       "    </tr>\n",
       "    <tr>\n",
       "      <th>3</th>\n",
       "      <td>199810_242681</td>\n",
       "      <td>0.0</td>\n",
       "    </tr>\n",
       "    <tr>\n",
       "      <th>4</th>\n",
       "      <td>199810_18515</td>\n",
       "      <td>0.0</td>\n",
       "    </tr>\n",
       "  </tbody>\n",
       "</table>\n",
       "</div>"
      ],
      "text/plain": [
       "         TrackID  Predictor\n",
       "0  199810_208019        1.0\n",
       "1   199810_74139        1.0\n",
       "2    199810_9903        1.0\n",
       "3  199810_242681        0.0\n",
       "4   199810_18515        0.0"
      ]
     },
     "execution_count": 202,
     "metadata": {},
     "output_type": "execute_result"
    }
   ],
   "source": [
    "ans_1.head()"
   ]
  },
  {
   "cell_type": "code",
   "execution_count": 203,
   "metadata": {},
   "outputs": [],
   "source": [
    "ans_1['Predictor'] = np.int64(ans_1['Predictor'])"
   ]
  },
  {
   "cell_type": "code",
   "execution_count": 204,
   "metadata": {},
   "outputs": [
    {
     "data": {
      "text/html": [
       "<div>\n",
       "<style scoped>\n",
       "    .dataframe tbody tr th:only-of-type {\n",
       "        vertical-align: middle;\n",
       "    }\n",
       "\n",
       "    .dataframe tbody tr th {\n",
       "        vertical-align: top;\n",
       "    }\n",
       "\n",
       "    .dataframe thead th {\n",
       "        text-align: right;\n",
       "    }\n",
       "</style>\n",
       "<table border=\"1\" class=\"dataframe\">\n",
       "  <thead>\n",
       "    <tr style=\"text-align: right;\">\n",
       "      <th></th>\n",
       "      <th>TrackID</th>\n",
       "      <th>Predictor</th>\n",
       "    </tr>\n",
       "  </thead>\n",
       "  <tbody>\n",
       "    <tr>\n",
       "      <th>0</th>\n",
       "      <td>199810_208019</td>\n",
       "      <td>1</td>\n",
       "    </tr>\n",
       "    <tr>\n",
       "      <th>1</th>\n",
       "      <td>199810_74139</td>\n",
       "      <td>1</td>\n",
       "    </tr>\n",
       "    <tr>\n",
       "      <th>2</th>\n",
       "      <td>199810_9903</td>\n",
       "      <td>1</td>\n",
       "    </tr>\n",
       "    <tr>\n",
       "      <th>3</th>\n",
       "      <td>199810_242681</td>\n",
       "      <td>0</td>\n",
       "    </tr>\n",
       "    <tr>\n",
       "      <th>4</th>\n",
       "      <td>199810_18515</td>\n",
       "      <td>0</td>\n",
       "    </tr>\n",
       "    <tr>\n",
       "      <th>...</th>\n",
       "      <td>...</td>\n",
       "      <td>...</td>\n",
       "    </tr>\n",
       "    <tr>\n",
       "      <th>119995</th>\n",
       "      <td>249010_72192</td>\n",
       "      <td>1</td>\n",
       "    </tr>\n",
       "    <tr>\n",
       "      <th>119996</th>\n",
       "      <td>249010_86104</td>\n",
       "      <td>1</td>\n",
       "    </tr>\n",
       "    <tr>\n",
       "      <th>119997</th>\n",
       "      <td>249010_186634</td>\n",
       "      <td>0</td>\n",
       "    </tr>\n",
       "    <tr>\n",
       "      <th>119998</th>\n",
       "      <td>249010_293818</td>\n",
       "      <td>1</td>\n",
       "    </tr>\n",
       "    <tr>\n",
       "      <th>119999</th>\n",
       "      <td>249010_262811</td>\n",
       "      <td>0</td>\n",
       "    </tr>\n",
       "  </tbody>\n",
       "</table>\n",
       "<p>120000 rows × 2 columns</p>\n",
       "</div>"
      ],
      "text/plain": [
       "              TrackID  Predictor\n",
       "0       199810_208019          1\n",
       "1        199810_74139          1\n",
       "2         199810_9903          1\n",
       "3       199810_242681          0\n",
       "4        199810_18515          0\n",
       "...               ...        ...\n",
       "119995   249010_72192          1\n",
       "119996   249010_86104          1\n",
       "119997  249010_186634          0\n",
       "119998  249010_293818          1\n",
       "119999  249010_262811          0\n",
       "\n",
       "[120000 rows x 2 columns]"
      ]
     },
     "execution_count": 204,
     "metadata": {},
     "output_type": "execute_result"
    }
   ],
   "source": [
    "ans_1"
   ]
  },
  {
   "cell_type": "code",
   "execution_count": 205,
   "metadata": {},
   "outputs": [],
   "source": [
    "ans_1.to_csv('ensemble_1.csv', index=False)"
   ]
  },
  {
   "cell_type": "markdown",
   "metadata": {},
   "source": [
    "Uploading the above generated ensemble csv yields only ~20% score. Therefore, we will now try to swap the 0s and 1s in the csv and make another upload. "
   ]
  },
  {
   "cell_type": "markdown",
   "metadata": {},
   "source": [
    "# swap the zeros and ones in predictor"
   ]
  },
  {
   "cell_type": "code",
   "execution_count": 1,
   "metadata": {},
   "outputs": [],
   "source": [
    "import pandas as pd\n",
    "\n",
    "df1 = pd.read_csv('ensemble_1.csv')"
   ]
  },
  {
   "cell_type": "code",
   "execution_count": 2,
   "metadata": {},
   "outputs": [
    {
     "data": {
      "text/html": [
       "<div>\n",
       "<style scoped>\n",
       "    .dataframe tbody tr th:only-of-type {\n",
       "        vertical-align: middle;\n",
       "    }\n",
       "\n",
       "    .dataframe tbody tr th {\n",
       "        vertical-align: top;\n",
       "    }\n",
       "\n",
       "    .dataframe thead th {\n",
       "        text-align: right;\n",
       "    }\n",
       "</style>\n",
       "<table border=\"1\" class=\"dataframe\">\n",
       "  <thead>\n",
       "    <tr style=\"text-align: right;\">\n",
       "      <th></th>\n",
       "      <th>TrackID</th>\n",
       "      <th>Predictor</th>\n",
       "    </tr>\n",
       "  </thead>\n",
       "  <tbody>\n",
       "    <tr>\n",
       "      <th>0</th>\n",
       "      <td>199810_208019</td>\n",
       "      <td>1</td>\n",
       "    </tr>\n",
       "    <tr>\n",
       "      <th>1</th>\n",
       "      <td>199810_74139</td>\n",
       "      <td>1</td>\n",
       "    </tr>\n",
       "    <tr>\n",
       "      <th>2</th>\n",
       "      <td>199810_9903</td>\n",
       "      <td>1</td>\n",
       "    </tr>\n",
       "    <tr>\n",
       "      <th>3</th>\n",
       "      <td>199810_242681</td>\n",
       "      <td>0</td>\n",
       "    </tr>\n",
       "    <tr>\n",
       "      <th>4</th>\n",
       "      <td>199810_18515</td>\n",
       "      <td>0</td>\n",
       "    </tr>\n",
       "  </tbody>\n",
       "</table>\n",
       "</div>"
      ],
      "text/plain": [
       "         TrackID  Predictor\n",
       "0  199810_208019          1\n",
       "1   199810_74139          1\n",
       "2    199810_9903          1\n",
       "3  199810_242681          0\n",
       "4   199810_18515          0"
      ]
     },
     "execution_count": 2,
     "metadata": {},
     "output_type": "execute_result"
    }
   ],
   "source": [
    "df1.head()"
   ]
  },
  {
   "cell_type": "code",
   "execution_count": 3,
   "metadata": {},
   "outputs": [
    {
     "name": "stderr",
     "output_type": "stream",
     "text": [
      "/Users/Sivankit/anaconda3/envs/tf2/lib/python3.7/site-packages/ipykernel_launcher.py:3: SettingWithCopyWarning: \n",
      "A value is trying to be set on a copy of a slice from a DataFrame\n",
      "\n",
      "See the caveats in the documentation: http://pandas.pydata.org/pandas-docs/stable/user_guide/indexing.html#returning-a-view-versus-a-copy\n",
      "  This is separate from the ipykernel package so we can avoid doing imports until\n",
      "/Users/Sivankit/anaconda3/envs/tf2/lib/python3.7/site-packages/ipykernel_launcher.py:5: SettingWithCopyWarning: \n",
      "A value is trying to be set on a copy of a slice from a DataFrame\n",
      "\n",
      "See the caveats in the documentation: http://pandas.pydata.org/pandas-docs/stable/user_guide/indexing.html#returning-a-view-versus-a-copy\n",
      "  \"\"\"\n"
     ]
    }
   ],
   "source": [
    "for i in range(len(df1)):\n",
    "    if df1['Predictor'][i] == 1:\n",
    "        df1['Predictor'][i] = 0\n",
    "    else:\n",
    "        df1['Predictor'][i] = 1"
   ]
  },
  {
   "cell_type": "code",
   "execution_count": 4,
   "metadata": {},
   "outputs": [
    {
     "data": {
      "text/html": [
       "<div>\n",
       "<style scoped>\n",
       "    .dataframe tbody tr th:only-of-type {\n",
       "        vertical-align: middle;\n",
       "    }\n",
       "\n",
       "    .dataframe tbody tr th {\n",
       "        vertical-align: top;\n",
       "    }\n",
       "\n",
       "    .dataframe thead th {\n",
       "        text-align: right;\n",
       "    }\n",
       "</style>\n",
       "<table border=\"1\" class=\"dataframe\">\n",
       "  <thead>\n",
       "    <tr style=\"text-align: right;\">\n",
       "      <th></th>\n",
       "      <th>TrackID</th>\n",
       "      <th>Predictor</th>\n",
       "    </tr>\n",
       "  </thead>\n",
       "  <tbody>\n",
       "    <tr>\n",
       "      <th>0</th>\n",
       "      <td>199810_208019</td>\n",
       "      <td>0</td>\n",
       "    </tr>\n",
       "    <tr>\n",
       "      <th>1</th>\n",
       "      <td>199810_74139</td>\n",
       "      <td>0</td>\n",
       "    </tr>\n",
       "    <tr>\n",
       "      <th>2</th>\n",
       "      <td>199810_9903</td>\n",
       "      <td>0</td>\n",
       "    </tr>\n",
       "    <tr>\n",
       "      <th>3</th>\n",
       "      <td>199810_242681</td>\n",
       "      <td>1</td>\n",
       "    </tr>\n",
       "    <tr>\n",
       "      <th>4</th>\n",
       "      <td>199810_18515</td>\n",
       "      <td>1</td>\n",
       "    </tr>\n",
       "  </tbody>\n",
       "</table>\n",
       "</div>"
      ],
      "text/plain": [
       "         TrackID  Predictor\n",
       "0  199810_208019          0\n",
       "1   199810_74139          0\n",
       "2    199810_9903          0\n",
       "3  199810_242681          1\n",
       "4   199810_18515          1"
      ]
     },
     "execution_count": 4,
     "metadata": {},
     "output_type": "execute_result"
    }
   ],
   "source": [
    "df1.head()"
   ]
  },
  {
   "cell_type": "code",
   "execution_count": 5,
   "metadata": {},
   "outputs": [],
   "source": [
    "df1.to_csv('ensemble_1_swapped.csv', index=False)"
   ]
  },
  {
   "cell_type": "markdown",
   "metadata": {},
   "source": [
    "With this, we were able to achieve 79.5% accuracy on test set on Kaggle. Therefore, this is much better. However, this is still not an improvement over most of our previous scores and we will keep trying to improve the score using more methods. \n",
    "\n",
    "For the purposes of HW10, we will submit this result for now. "
   ]
  },
  {
   "cell_type": "code",
   "execution_count": null,
   "metadata": {},
   "outputs": [],
   "source": []
  }
 ],
 "metadata": {
  "kernelspec": {
   "display_name": "Python 3",
   "language": "python",
   "name": "python3"
  },
  "language_info": {
   "codemirror_mode": {
    "name": "ipython",
    "version": 3
   },
   "file_extension": ".py",
   "mimetype": "text/x-python",
   "name": "python",
   "nbconvert_exporter": "python",
   "pygments_lexer": "ipython3",
   "version": "3.7.6"
  }
 },
 "nbformat": 4,
 "nbformat_minor": 4
}
