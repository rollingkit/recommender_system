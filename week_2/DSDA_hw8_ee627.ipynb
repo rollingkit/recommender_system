{
 "cells": [
  {
   "cell_type": "markdown",
   "metadata": {},
   "source": [
    "# HW 8: EE 627\n",
    "\n",
    "# Part 1:\n"
   ]
  },
  {
   "cell_type": "code",
   "execution_count": 1,
   "metadata": {},
   "outputs": [],
   "source": [
    "from pyspark.mllib.recommendation import ALS, MatrixFactorizationModel, Rating\n",
    "from pyspark import SparkContext\n",
    "\n",
    "sc= SparkContext()"
   ]
  },
  {
   "cell_type": "code",
   "execution_count": 2,
   "metadata": {},
   "outputs": [],
   "source": [
    "train_data = sc.textFile('trainItem.data')"
   ]
  },
  {
   "cell_type": "code",
   "execution_count": 3,
   "metadata": {},
   "outputs": [
    {
     "data": {
      "text/plain": [
       "['199808,248969,90',\n",
       " '199808,2663,90',\n",
       " '199808,28341,90',\n",
       " '199808,42563,90',\n",
       " '199808,59092,90',\n",
       " '199808,64052,90',\n",
       " '199808,69022,90',\n",
       " '199808,77710,90',\n",
       " '199808,79500,90',\n",
       " '199808,82317,90']"
      ]
     },
     "execution_count": 3,
     "metadata": {},
     "output_type": "execute_result"
    }
   ],
   "source": [
    "train_data.take(10)"
   ]
  },
  {
   "cell_type": "code",
   "execution_count": 4,
   "metadata": {},
   "outputs": [],
   "source": [
    "train_ratings = train_data.map(lambda l: l.split(','))\\\n",
    ".map(lambda l: Rating(int(l[0]), int(l[1]), float(l[2])))\n"
   ]
  },
  {
   "cell_type": "code",
   "execution_count": 5,
   "metadata": {},
   "outputs": [],
   "source": [
    "rank_1=10\n",
    "numIterations_1 = 10\n",
    "model_1 = ALS.train(train_ratings, rank_1, numIterations_1)\n"
   ]
  },
  {
   "cell_type": "code",
   "execution_count": 6,
   "metadata": {},
   "outputs": [],
   "source": [
    "test_file = sc.textFile(\"testItem.data\")\n",
    "test_ratings = test_file.map(lambda l: l.split(','))\\\n",
    ".map(lambda l: Rating(int(l[0]), int(l[1]), float(l[2])))"
   ]
  },
  {
   "cell_type": "code",
   "execution_count": 7,
   "metadata": {},
   "outputs": [],
   "source": [
    "test_data = test_ratings.map(lambda p: (p[0], p[1]))\n",
    "predictions = model_1.predictAll(test_data).map(lambda r: ((r[0], r[1]), r[2]))"
   ]
  },
  {
   "cell_type": "code",
   "execution_count": 20,
   "metadata": {},
   "outputs": [
    {
     "data": {
      "text/plain": [
       "<bound method RDD.count of MapPartitionsRDD[241] at coalesce at NativeMethodAccessorImpl.java:0>"
      ]
     },
     "execution_count": 20,
     "metadata": {},
     "output_type": "execute_result"
    }
   ],
   "source": [
    "predictions.count"
   ]
  },
  {
   "cell_type": "code",
   "execution_count": 8,
   "metadata": {},
   "outputs": [
    {
     "data": {
      "text/plain": [
       "[((204892, 161980), 58.062975858737474),\n",
       " ((200223, 21780), -17.526104118462854),\n",
       " ((243984, 66368), 55.38720690600057),\n",
       " ((201268, 66368), 119.7534460694085),\n",
       " ((242273, 66368), 102.38650503226515),\n",
       " ((229757, 66368), 72.66718446839342),\n",
       " ((200909, 66368), 85.72701059162323),\n",
       " ((234509, 66368), 32.18246725062349),\n",
       " ((240129, 66368), 66.28820359898558),\n",
       " ((243958, 66368), -4.706324924128836)]"
      ]
     },
     "execution_count": 8,
     "metadata": {},
     "output_type": "execute_result"
    }
   ],
   "source": [
    "predictions.take(10)"
   ]
  },
  {
   "cell_type": "code",
   "execution_count": 19,
   "metadata": {},
   "outputs": [
    {
     "data": {
      "text/plain": [
       "MapPartitionsRDD[256] at coalesce at NativeMethodAccessorImpl.java:0"
      ]
     },
     "execution_count": 19,
     "metadata": {},
     "output_type": "execute_result"
    }
   ],
   "source": [
    "predictions.repartition(1)"
   ]
  },
  {
   "cell_type": "code",
   "execution_count": null,
   "metadata": {},
   "outputs": [],
   "source": [
    "predictions"
   ]
  },
  {
   "cell_type": "code",
   "execution_count": 12,
   "metadata": {},
   "outputs": [],
   "source": [
    "predictions = predictions.repartition(1)"
   ]
  },
  {
   "cell_type": "code",
   "execution_count": 13,
   "metadata": {},
   "outputs": [],
   "source": [
    "predictions.saveAsTextFile('test.txt')"
   ]
  },
  {
   "cell_type": "code",
   "execution_count": 14,
   "metadata": {},
   "outputs": [
    {
     "data": {
      "text/plain": [
       "119974"
      ]
     },
     "execution_count": 14,
     "metadata": {},
     "output_type": "execute_result"
    }
   ],
   "source": [
    "predictions.count()"
   ]
  },
  {
   "cell_type": "code",
   "execution_count": 15,
   "metadata": {},
   "outputs": [
    {
     "data": {
      "text/plain": [
       "120000"
      ]
     },
     "execution_count": 15,
     "metadata": {},
     "output_type": "execute_result"
    }
   ],
   "source": [
    "test_data.count()"
   ]
  },
  {
   "cell_type": "code",
   "execution_count": 16,
   "metadata": {},
   "outputs": [
    {
     "data": {
      "text/plain": [
       "120000"
      ]
     },
     "execution_count": 16,
     "metadata": {},
     "output_type": "execute_result"
    }
   ],
   "source": [
    "test_file.count()"
   ]
  },
  {
   "cell_type": "code",
   "execution_count": 17,
   "metadata": {},
   "outputs": [
    {
     "data": {
      "text/plain": [
       "120000"
      ]
     },
     "execution_count": 17,
     "metadata": {},
     "output_type": "execute_result"
    }
   ],
   "source": [
    "test_ratings.count()"
   ]
  },
  {
   "cell_type": "code",
   "execution_count": 10,
   "metadata": {},
   "outputs": [
    {
     "data": {
      "text/plain": [
       "[(199810, 208019),\n",
       " (199810, 74139),\n",
       " (199810, 9903),\n",
       " (199810, 242681),\n",
       " (199810, 18515),\n",
       " (199810, 105760),\n",
       " (199812, 276940),\n",
       " (199812, 142408),\n",
       " (199812, 130023),\n",
       " (199812, 29189)]"
      ]
     },
     "execution_count": 10,
     "metadata": {},
     "output_type": "execute_result"
    }
   ],
   "source": [
    "test_data.take(10)"
   ]
  },
  {
   "cell_type": "markdown",
   "metadata": {},
   "source": [
    "# Part II:\n",
    "\n",
    "# 1. "
   ]
  },
  {
   "cell_type": "code",
   "execution_count": 11,
   "metadata": {},
   "outputs": [],
   "source": [
    "data = sc.textFile('re_u.data')"
   ]
  },
  {
   "cell_type": "code",
   "execution_count": 12,
   "metadata": {},
   "outputs": [
    {
     "data": {
      "text/plain": [
       "['196,242,3',\n",
       " '186,302,3',\n",
       " '22,377,1',\n",
       " '244,51,2',\n",
       " '166,346,1',\n",
       " '298,474,4',\n",
       " '115,265,2',\n",
       " '253,465,5',\n",
       " '305,451,3',\n",
       " '6,86,3']"
      ]
     },
     "execution_count": 12,
     "metadata": {},
     "output_type": "execute_result"
    }
   ],
   "source": [
    "data.take(10)"
   ]
  },
  {
   "cell_type": "code",
   "execution_count": 13,
   "metadata": {},
   "outputs": [
    {
     "data": {
      "text/plain": [
       "100000"
      ]
     },
     "execution_count": 13,
     "metadata": {},
     "output_type": "execute_result"
    }
   ],
   "source": [
    "data.count()"
   ]
  },
  {
   "cell_type": "code",
   "execution_count": 14,
   "metadata": {},
   "outputs": [],
   "source": [
    "ratings = data.map(lambda l: l.split(',')).map(lambda l: Rating(int(l[0]), int(l[1]), float(l[2])))"
   ]
  },
  {
   "cell_type": "code",
   "execution_count": 15,
   "metadata": {},
   "outputs": [],
   "source": [
    "ranks = [5,7,10,20]\n",
    "mse_r = [None]*len(ranks)\n",
    "numIterations = 20"
   ]
  },
  {
   "cell_type": "code",
   "execution_count": 16,
   "metadata": {},
   "outputs": [
    {
     "name": "stdout",
     "output_type": "stream",
     "text": [
      "Mean Squared Error for rank 5 = 0.6184257066825297\n",
      "Mean Squared Error for rank 7 = 0.5513882795710545\n",
      "Mean Squared Error for rank 10 = 0.47161066385520084\n",
      "Mean Squared Error for rank 20 = 0.2936683391515114\n"
     ]
    }
   ],
   "source": [
    "for i in range(len(ranks)):\n",
    "    rank = ranks[i]\n",
    "    model = ALS.train(ratings, rank, numIterations)\n",
    "    \n",
    "    testdata = ratings.map(lambda p: (p[0], p[1]))\n",
    "    predictions = model.predictAll(testdata).map(lambda r: ((r[0], r[1]), r[2]))\n",
    "    ratesAndPreds = ratings.map(lambda r: ((r[0], r[1]), r[2])).join(predictions)\n",
    "    MSE = ratesAndPreds.map(lambda r: (r[1][0] - r[1][1])**2).mean()\n",
    "    mse_r[i] = MSE\n",
    "    print(\"Mean Squared Error for rank \"+str(rank)+\" = \"+str(MSE))"
   ]
  },
  {
   "cell_type": "code",
   "execution_count": 26,
   "metadata": {},
   "outputs": [
    {
     "data": {
      "text/plain": [
       "[<matplotlib.lines.Line2D at 0x7fe9621c21d0>]"
      ]
     },
     "execution_count": 26,
     "metadata": {},
     "output_type": "execute_result"
    },
    {
     "data": {
      "image/png": "[encoded data removed]",
      "text/plain": [
       "<Figure size 432x288 with 1 Axes>"
      ]
     },
     "metadata": {
      "needs_background": "light"
     },
     "output_type": "display_data"
    }
   ],
   "source": [
    "import matplotlib.pyplot as plt\n",
    "plt.xlabel('Rank')\n",
    "plt.ylabel('MSE')\n",
    "plt.plot(ranks,mse_r)"
   ]
  },
  {
   "cell_type": "markdown",
   "metadata": {},
   "source": [
    "# 2. "
   ]
  },
  {
   "cell_type": "code",
   "execution_count": 27,
   "metadata": {},
   "outputs": [
    {
     "name": "stdout",
     "output_type": "stream",
     "text": [
      "Mean Squared Error for number of iterations 2 = 0.4923116169436986\n",
      "Mean Squared Error for number of iterations 5 = 0.3421576592939871\n",
      "Mean Squared Error for number of iterations 10 = 0.3074872445527849\n",
      "Mean Squared Error for number of iterations 20 = 0.29204901185811016\n"
     ]
    }
   ],
   "source": [
    "numIters = [2,5,10,20]\n",
    "mse_n = [None]*len(numIters)\n",
    "rank = 20\n",
    "for i in range(len(numIters)):\n",
    "    numIterations = numIters[i]\n",
    "    model = ALS.train(ratings, rank, numIterations)\n",
    "    \n",
    "    testdata = ratings.map(lambda p: (p[0], p[1]))\n",
    "    predictions = model.predictAll(testdata).map(lambda r: ((r[0], r[1]), r[2]))\n",
    "    ratesAndPreds = ratings.map(lambda r: ((r[0], r[1]), r[2])).join(predictions)\n",
    "    MSE = ratesAndPreds.map(lambda r: (r[1][0] - r[1][1])**2).mean()\n",
    "    mse_n[i] = MSE\n",
    "    print(\"Mean Squared Error for number of iterations \"+str(numIterations)+\" = \"+str(MSE))"
   ]
  },
  {
   "cell_type": "code",
   "execution_count": 29,
   "metadata": {},
   "outputs": [
    {
     "data": {
      "text/plain": [
       "[<matplotlib.lines.Line2D at 0x7fe9622bb5d0>]"
      ]
     },
     "execution_count": 29,
     "metadata": {},
     "output_type": "execute_result"
    },
    {
     "data": {
      "image/png": "[encoded data removed]",
      "text/plain": [
       "<Figure size 432x288 with 1 Axes>"
      ]
     },
     "metadata": {
      "needs_background": "light"
     },
     "output_type": "display_data"
    }
   ],
   "source": [
    "plt.xlabel('Number of Iterations')\n",
    "plt.ylabel('MSE')\n",
    "plt.plot(numIters,mse_n)"
   ]
  },
  {
   "cell_type": "markdown",
   "metadata": {},
   "source": [
    "# 3. "
   ]
  },
  {
   "cell_type": "code",
   "execution_count": 32,
   "metadata": {},
   "outputs": [
    {
     "name": "stdout",
     "output_type": "stream",
     "text": [
      "Mean Squared Error for data size of 2000 = 9.614212400095245e-05\n",
      "Mean Squared Error for data size of 5000 = 0.0006578047935117116\n",
      "Mean Squared Error for data size of 10000 = 0.002906504038477276\n",
      "Mean Squared Error for data size of 20000 = 0.025380198348017916\n",
      "Mean Squared Error for data size of 50000 = 0.14982413975151615\n",
      "Mean Squared Error for data size of 100000 = 0.28988358727033103\n"
     ]
    }
   ],
   "source": [
    "sizes = [2000,5000,10000,20000,50000,100000]\n",
    "mse_s = [None]*len(sizes)\n",
    "numIterations = 20\n",
    "rank = 20\n",
    "for i in range(len(sizes)):\n",
    "    pData = data.take(sizes[i])#this returns a list\n",
    "    #convert list to RDD\n",
    "    pData = sc.parallelize(pData)\n",
    "    ratings = pData.map(lambda l: l.split(',')).map(lambda l: Rating(int(l[0]), int(l[1]), float(l[2])))\n",
    "    model = ALS.train(ratings, rank, numIterations)\n",
    "    \n",
    "    testdata = ratings.map(lambda p: (p[0], p[1]))\n",
    "    predictions = model.predictAll(testdata).map(lambda r: ((r[0], r[1]), r[2]))\n",
    "    ratesAndPreds = ratings.map(lambda r: ((r[0], r[1]), r[2])).join(predictions)\n",
    "    MSE = ratesAndPreds.map(lambda r: (r[1][0] - r[1][1])**2).mean()\n",
    "    mse_s[i] = MSE\n",
    "    print(\"Mean Squared Error for data size of \"+str(sizes[i])+\" = \"+str(MSE))"
   ]
  },
  {
   "cell_type": "code",
   "execution_count": 34,
   "metadata": {},
   "outputs": [
    {
     "data": {
      "text/plain": [
       "[<matplotlib.lines.Line2D at 0x7fe9622863d0>]"
      ]
     },
     "execution_count": 34,
     "metadata": {},
     "output_type": "execute_result"
    },
    {
     "data": {
      "image/png": "[encoded data removed]",
      "text/plain": [
       "<Figure size 432x288 with 1 Axes>"
      ]
     },
     "metadata": {
      "needs_background": "light"
     },
     "output_type": "display_data"
    }
   ],
   "source": [
    "plt.xlabel('Data Size')\n",
    "plt.ylabel('MSE')\n",
    "plt.plot(sizes, mse_s)"
   ]
  },
  {
   "cell_type": "code",
   "execution_count": null,
   "metadata": {},
   "outputs": [],
   "source": []
  }
 ],
 "metadata": {
  "kernelspec": {
   "display_name": "Python 3",
   "language": "python",
   "name": "python3"
  },
  "language_info": {
   "codemirror_mode": {
    "name": "ipython",
    "version": 3
   },
   "file_extension": ".py",
   "mimetype": "text/x-python",
   "name": "python",
   "nbconvert_exporter": "python",
   "pygments_lexer": "ipython3",
   "version": "3.7.6"
  }
 },
 "nbformat": 4,
 "nbformat_minor": 4
}
