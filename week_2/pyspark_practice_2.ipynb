{
 "cells": [
  {
   "cell_type": "markdown",
   "metadata": {},
   "source": [
    "# Part II: \n",
    "\n",
    "# 1. "
   ]
  },
  {
   "cell_type": "code",
   "execution_count": 4,
   "metadata": {},
   "outputs": [],
   "source": [
    "from pyspark.mllib.recommendation import ALS, MatrixFactorizationModel, Rating\n",
    "from pyspark import SparkContext\n",
    "sc = SparkContext()\n",
    "\n",
    "ranks = [5,7,10,20]\n"
   ]
  },
  {
   "cell_type": "code",
   "execution_count": 5,
   "metadata": {},
   "outputs": [],
   "source": [
    "data = sc.textFile(\"re_u.data\")"
   ]
  },
  {
   "cell_type": "code",
   "execution_count": 6,
   "metadata": {},
   "outputs": [
    {
     "data": {
      "text/plain": [
       "['196,242,3', '186,302,3', '22,377,1', '244,51,2', '166,346,1']"
      ]
     },
     "execution_count": 6,
     "metadata": {},
     "output_type": "execute_result"
    }
   ],
   "source": [
    "data.take(5)"
   ]
  },
  {
   "cell_type": "code",
   "execution_count": 7,
   "metadata": {},
   "outputs": [],
   "source": [
    "ratings = data.map(lambda l: l.split(',')).map(lambda l: Rating(int(l[0]), int(l[1]), float(l[2])))"
   ]
  },
  {
   "cell_type": "code",
   "execution_count": 8,
   "metadata": {},
   "outputs": [
    {
     "data": {
      "text/plain": [
       "100000"
      ]
     },
     "execution_count": 8,
     "metadata": {},
     "output_type": "execute_result"
    }
   ],
   "source": [
    "data.count()"
   ]
  },
  {
   "cell_type": "code",
   "execution_count": 9,
   "metadata": {},
   "outputs": [],
   "source": [
    "rank = ranks[0]\n",
    "numIterations = 10\n",
    "model = ALS.train(ratings, rank, numIterations)"
   ]
  },
  {
   "cell_type": "code",
   "execution_count": 10,
   "metadata": {},
   "outputs": [
    {
     "name": "stdout",
     "output_type": "stream",
     "text": [
      "Mean Squared Error = 0.6212677632591163\n"
     ]
    }
   ],
   "source": [
    "testdata = ratings.map(lambda p: (p[0], p[1]))\n",
    "predictions = model.predictAll(testdata).map(lambda r: ((r[0], r[1]), r[2]))\n",
    "ratesAndPreds = ratings.map(lambda r: ((r[0], r[1]), r[2])).join(predictions)\n",
    "MSE = ratesAndPreds.map(lambda r: (r[1][0] - r[1][1])**2).mean()\n",
    "print(\"Mean Squared Error = \"+ str(MSE))"
   ]
  },
  {
   "cell_type": "markdown",
   "metadata": {},
   "source": [
    "Now, let us try implementing this for the different values of rank:"
   ]
  },
  {
   "cell_type": "code",
   "execution_count": 11,
   "metadata": {},
   "outputs": [
    {
     "name": "stdout",
     "output_type": "stream",
     "text": [
      "Mean Squared Error for rank 5 = 0.6209253729167984\n",
      "Mean Squared Error for rank 7 = 0.5587300511686638\n",
      "Mean Squared Error for rank 10 = 0.48536346826745874\n",
      "Mean Squared Error for rank 20 = 0.30847382671479534\n"
     ]
    }
   ],
   "source": [
    "for i in range(len(ranks)):\n",
    "    rank = ranks[i]\n",
    "    model = ALS.train(ratings, rank, numIterations)\n",
    "    \n",
    "    testdata = ratings.map(lambda p: (p[0], p[1]))\n",
    "    predictions = model.predictAll(testdata).map(lambda r: ((r[0], r[1]), r[2]))\n",
    "    ratesAndPreds = ratings.map(lambda r: ((r[0], r[1]), r[2])).join(predictions)\n",
    "    MSE = ratesAndPreds.map(lambda r: (r[1][0] - r[1][1])**2).mean()\n",
    "    print(\"Mean Squared Error for rank \"+str(rank)+\" = \"+str(MSE))"
   ]
  },
  {
   "cell_type": "markdown",
   "metadata": {},
   "source": [
    "# 2. "
   ]
  },
  {
   "cell_type": "code",
   "execution_count": 12,
   "metadata": {},
   "outputs": [
    {
     "name": "stdout",
     "output_type": "stream",
     "text": [
      "Mean Squared Error for number of iterations 2 = 0.49406140047992964\n",
      "Mean Squared Error for number of iterations 5 = 0.34511130849850313\n",
      "Mean Squared Error for number of iterations 10 = 0.3050194481833983\n",
      "Mean Squared Error for number of iterations 20 = 0.290924490131114\n"
     ]
    }
   ],
   "source": [
    "numIters = [2,5,10,20]\n",
    "rank = 20\n",
    "for i in range(len(numIters)):\n",
    "    numIterations = numIters[i]\n",
    "    model = ALS.train(ratings, rank, numIterations)\n",
    "    \n",
    "    testdata = ratings.map(lambda p: (p[0], p[1]))\n",
    "    predictions = model.predictAll(testdata).map(lambda r: ((r[0], r[1]), r[2]))\n",
    "    ratesAndPreds = ratings.map(lambda r: ((r[0], r[1]), r[2])).join(predictions)\n",
    "    MSE = ratesAndPreds.map(lambda r: (r[1][0] - r[1][1])**2).mean()\n",
    "    print(\"Mean Squared Error for number of iterations \"+str(numIterations)+\" = \"+str(MSE))"
   ]
  },
  {
   "cell_type": "markdown",
   "metadata": {},
   "source": [
    "# 3."
   ]
  },
  {
   "cell_type": "code",
   "execution_count": 23,
   "metadata": {},
   "outputs": [
    {
     "name": "stdout",
     "output_type": "stream",
     "text": [
      "Mean Squared Error for data size of 2000 = 9.422348627972515e-05\n",
      "Mean Squared Error for data size of 5000 = 0.0006496501264328184\n",
      "Mean Squared Error for data size of 10000 = 0.0030010767452570077\n",
      "Mean Squared Error for data size of 20000 = 0.025351257839588852\n",
      "Mean Squared Error for data size of 50000 = 0.15151901742331103\n",
      "Mean Squared Error for data size of 100000 = 0.2901319113611081\n"
     ]
    }
   ],
   "source": [
    "sizes = [2000, 5000, 10000, 20000, 50000, 100000]\n",
    "numIterations = 20\n",
    "\n",
    "for i in range(len(sizes)):\n",
    "    pData = data.take(sizes[i])# this returns a list\n",
    "    #convert list to RDD\n",
    "    pData = sc.parallelize(pData)\n",
    "    ratings = pData.map(lambda l: l.split(',')).map(lambda l: Rating(int(l[0]), int(l[1]), float(l[2])))\n",
    "    model = ALS.train(ratings, rank, numIterations)\n",
    "    \n",
    "    testdata = ratings.map(lambda p: (p[0], p[1]))\n",
    "    predictions = model.predictAll(testdata).map(lambda r: ((r[0], r[1]), r[2]))\n",
    "    ratesAndPreds = ratings.map(lambda r: ((r[0], r[1]), r[2])).join(predictions)\n",
    "    MSE = ratesAndPreds.map(lambda r: (r[1][0] - r[1][1])**2).mean()\n",
    "    print(\"Mean Squared Error for data size of \"+str(sizes[i])+\" = \"+str(MSE))\n",
    "    "
   ]
  },
  {
   "cell_type": "code",
   "execution_count": null,
   "metadata": {},
   "outputs": [],
   "source": []
  }
 ],
 "metadata": {
  "kernelspec": {
   "display_name": "Python 3",
   "language": "python",
   "name": "python3"
  },
  "language_info": {
   "codemirror_mode": {
    "name": "ipython",
    "version": 3
   },
   "file_extension": ".py",
   "mimetype": "text/x-python",
   "name": "python",
   "nbconvert_exporter": "python",
   "pygments_lexer": "ipython3",
   "version": "3.7.6"
  }
 },
 "nbformat": 4,
 "nbformat_minor": 4
}
